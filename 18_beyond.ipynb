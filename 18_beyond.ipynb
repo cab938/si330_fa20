{
 "cells": [
  {
   "cell_type": "markdown",
   "metadata": {},
   "source": [
    "# What is Data?\n",
    "* In this class we have talked about the manipulation of data from four points:\n",
    "  * Numpy\n",
    "  * Regex\n",
    "  * Pandas\n",
    "  * RDBMS\n",
    "* In SI 330 our focus has been on these as (1) models of data (2) models of manipulation and (3) technologies to enable both"
   ]
  },
  {
   "cell_type": "markdown",
   "metadata": {},
   "source": [
    "* the way in which we model data is one of (and which enables) human perceptions\n",
    "* underneath, the computer doesn't store data differently for these kinds of data: an RDBMS table, a regex string, and an jpeg image are all stored as sequences of bytes underneath\n",
    "* the model which is layerd on top of the data is what allows us to quickly form an understanding, and to manipulate the data to gain insight"
   ]
  },
  {
   "cell_type": "markdown",
   "metadata": {},
   "source": [
    "* I promised (threatened?) you at the beginning of the course that this **was a programming course**\n",
    "* Through this course you've hardned your python skills while at the same time learning how to twist data structures to answer real questions\n",
    "* For those of you progressing in the BSI, the next steps are to learn more about how to generate insight from the data, and to work with larger scopes of data in bigger projects."
   ]
  },
  {
   "cell_type": "markdown",
   "metadata": {},
   "source": [
    "* Our model of data has been array-based, either single dimensional (numpy 1d, Series) or two dimensional (DataFrame, SQL)\n",
    "* In all of these system you have learned a specialized querying skills, whether they were\n",
    "  1. based on simple patterns (regex)\n",
    "  2. based on API calls (pandas)\n",
    "  3. or a full fledged language unto itself (SQL)"
   ]
  },
  {
   "cell_type": "markdown",
   "metadata": {},
   "source": [
    "# This is just the start!\n",
    "* These are just basic data structures, but you have already seen more and will continue to see more in the future!\n",
    "* For instance, you have seen **hierarchical data** structures in the past, and you'll see **networked data** structures such as graphs in other courses.\n",
    "* Regardless, these structures are a human ordering layered upon your data, and you'll need to be able to pick up new query languages in order to work with and gain insight into the data."
   ]
  }
 ],
 "metadata": {
  "kernelspec": {
   "display_name": "Python 3",
   "language": "python",
   "name": "python3"
  },
  "language_info": {
   "codemirror_mode": {
    "name": "ipython",
    "version": 3
   },
   "file_extension": ".py",
   "mimetype": "text/x-python",
   "name": "python",
   "nbconvert_exporter": "python",
   "pygments_lexer": "ipython3",
   "version": "3.7.3"
  }
 },
 "nbformat": 4,
 "nbformat_minor": 4
}
