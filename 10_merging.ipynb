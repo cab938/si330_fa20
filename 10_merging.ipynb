{
 "cells": [
  {
   "cell_type": "markdown",
   "metadata": {
    "slideshow": {
     "slide_type": "slide"
    }
   },
   "source": [
    "# Merging\n",
    "* There are many different ways to teach merging, and merging in pandas and sql are *very very very* similar\n",
    "* This stack overflow post goes through a bunch of them: https://stackoverflow.com/questions/38549/what-is-the-difference-between-inner-join-and-outer-join\n",
    "* Some people don't like the venn diagram approach, but for me it works well, so let's start there\n"
   ]
  },
  {
   "cell_type": "markdown",
   "metadata": {},
   "source": [
    "<img src=\"https://i.stack.imgur.com/hMKKt.jpg\" />"
   ]
  },
  {
   "cell_type": "markdown",
   "metadata": {
    "slideshow": {
     "slide_type": "slide"
    }
   },
   "source": [
    "* The crux of the question is, how do you take two dataframes and join them together into one?\n",
    "* Remember that the dataframe is made up of two axes, rows and columns\n",
    "* Rows and columns are actually identical underneath - they both have indicies (or names) and we can transform them trivially with `T`\n",
    "* So the mental model I give you now is actually going to be a bit wrong, but hopefully it will suffice"
   ]
  },
  {
   "cell_type": "markdown",
   "metadata": {
    "slideshow": {
     "slide_type": "slide"
    }
   },
   "source": [
    "* Here's our scenario, we have a `DataFrame` of students and one of staff\n",
    "* Turns out students can be staff! Look at Alana...\n",
    "* So when we join our dataframes together, who are we interested in?\n",
    "1. Only students who are also staff?\n",
    "2. Students who are not staff? Staff who are not students?\n",
    "3. Students, regardless of whether they are staff or not, but if they are staff we want the staff details too?\n",
    "4. Ug. What a mess..."
   ]
  },
  {
   "cell_type": "code",
   "execution_count": null,
   "metadata": {
    "slideshow": {
     "slide_type": "slide"
    }
   },
   "outputs": [],
   "source": [
    "import pandas as pd\n",
    "\n",
    "staff_df = pd.DataFrame([{'Name': 'Kelly', 'Role': 'Director of HR'},\n",
    "                         {'Name': 'Sally', 'Role': 'Course liasion'},\n",
    "                         {'Name': 'James', 'Role': 'Grader'}])\n",
    "# And lets index these staff by name\n",
    "staff_df = staff_df.set_index('Name')\n",
    "\n",
    "# Now we'll create a student dataframe\n",
    "student_df = pd.DataFrame([{'Name': 'James', 'School': 'Business'},\n",
    "                           {'Name': 'Mike', 'School': 'Law'},\n",
    "                           {'Name': 'Sally', 'School': 'Engineering'}])\n",
    "# And we'll index this by name too\n",
    "student_df = student_df.set_index('Name')"
   ]
  },
  {
   "cell_type": "code",
   "execution_count": null,
   "metadata": {
    "slideshow": {
     "slide_type": "slide"
    }
   },
   "outputs": [],
   "source": [
    "staff_df"
   ]
  },
  {
   "cell_type": "code",
   "execution_count": null,
   "metadata": {
    "slideshow": {
     "slide_type": "subslide"
    }
   },
   "outputs": [],
   "source": [
    "student_df"
   ]
  },
  {
   "cell_type": "markdown",
   "metadata": {
    "slideshow": {
     "slide_type": "slide"
    }
   },
   "source": [
    "* Ok, we have two different dataframes (one has a Role the other a School) but they are indexed the same. That's a good start\n",
    "* Let's just try and get a list of everyone and their details. This is called a union, or outer join, and we're actually interested in unioning in both directions, along the rows and the columns"
   ]
  },
  {
   "cell_type": "code",
   "execution_count": null,
   "metadata": {
    "slideshow": {
     "slide_type": "slide"
    }
   },
   "outputs": [],
   "source": [
    "pd.merge(staff_df, student_df, how='outer', left_index=True, right_index=True)"
   ]
  },
  {
   "cell_type": "markdown",
   "metadata": {
    "slideshow": {
     "slide_type": "subslide"
    }
   },
   "source": [
    "* Notice how we have both more columns and more rows, and how there are some missing values, since Kelly doesn't have a school and Mike doesn't have a role"
   ]
  },
  {
   "cell_type": "code",
   "execution_count": null,
   "metadata": {
    "slideshow": {
     "slide_type": "slide"
    }
   },
   "outputs": [],
   "source": [
    "pd.merge(staff_df, student_df, how='inner', left_index=True, right_index=True)"
   ]
  },
  {
   "cell_type": "markdown",
   "metadata": {
    "slideshow": {
     "slide_type": "subslide"
    }
   },
   "source": [
    "* Now notice how we have only taken the place where there is overlap, but we have all of the columns of both DataFrames\n",
    "* pandas looks for join membership on the index and not the columns, you always get all the columns."
   ]
  },
  {
   "cell_type": "code",
   "execution_count": null,
   "metadata": {
    "slideshow": {
     "slide_type": "slide"
    }
   },
   "outputs": [],
   "source": [
    "# what will this produce?\n",
    "pd.merge(staff_df, student_df, how='right', left_index=True, right_index=True)"
   ]
  },
  {
   "cell_type": "markdown",
   "metadata": {
    "slideshow": {
     "slide_type": "subslide"
    }
   },
   "source": [
    "* Notice how pandas kept anyone involved in the right dataframe, the students, regardless of whether they were in the left dataframe\n",
    "* People who were in the left dataframe had their new information populated, everyone else (Mike) just got NaN's"
   ]
  },
  {
   "cell_type": "code",
   "execution_count": null,
   "metadata": {
    "slideshow": {
     "slide_type": "slide"
    }
   },
   "outputs": [],
   "source": [
    "# We can also join on columns instead of indicies, which is cool!\n",
    "staff_df = staff_df.reset_index()\n",
    "student_df = student_df.reset_index()"
   ]
  },
  {
   "cell_type": "code",
   "execution_count": null,
   "metadata": {
    "slideshow": {
     "slide_type": "subslide"
    }
   },
   "outputs": [],
   "source": [
    "staff_df"
   ]
  },
  {
   "cell_type": "code",
   "execution_count": null,
   "metadata": {
    "slideshow": {
     "slide_type": "slide"
    }
   },
   "outputs": [],
   "source": [
    "student_df"
   ]
  },
  {
   "cell_type": "code",
   "execution_count": null,
   "metadata": {
    "slideshow": {
     "slide_type": "slide"
    }
   },
   "outputs": [],
   "source": [
    "pd.merge(staff_df, student_df, how='right', on='Name')"
   ]
  },
  {
   "cell_type": "markdown",
   "metadata": {
    "slideshow": {
     "slide_type": "subslide"
    }
   },
   "source": [
    "* (this is how I do it 90% of the time)"
   ]
  },
  {
   "cell_type": "markdown",
   "metadata": {
    "slideshow": {
     "slide_type": "slide"
    }
   },
   "source": [
    "* What if we have conflicts between dataframes?"
   ]
  },
  {
   "cell_type": "code",
   "execution_count": null,
   "metadata": {
    "slideshow": {
     "slide_type": "slide"
    }
   },
   "outputs": [],
   "source": [
    "staff_df = pd.DataFrame([{'Name': 'Kelly', 'Role': 'Director of HR', \n",
    "                          'Location': 'State Street'},\n",
    "                         {'Name': 'Sally', 'Role': 'Course liasion', \n",
    "                          'Location': 'Washington Avenue'},\n",
    "                         {'Name': 'James', 'Role': 'Grader', \n",
    "                          'Location': 'Washington Avenue'}])\n",
    "student_df = pd.DataFrame([{'Name': 'James', 'School': 'Business', \n",
    "                            'Location': '1024 Billiard Avenue'},\n",
    "                           {'Name': 'Mike', 'School': 'Law', \n",
    "                            'Location': 'Fraternity House #22'},\n",
    "                           {'Name': 'Sally', 'School': 'Engineering', \n",
    "                            'Location': '512 Wilson Crescent'}])\n",
    "student_df"
   ]
  },
  {
   "cell_type": "code",
   "execution_count": null,
   "metadata": {
    "slideshow": {
     "slide_type": "slide"
    }
   },
   "outputs": [],
   "source": [
    "# quick, what's the meaning of this merge?\n",
    "pd.merge(staff_df, student_df, how='left', on='Name')"
   ]
  },
  {
   "cell_type": "code",
   "execution_count": null,
   "metadata": {
    "slideshow": {
     "slide_type": "slide"
    }
   },
   "outputs": [],
   "source": [
    "# What do we do if we want to match on multiple columns, like first and last name?\n",
    "staff_df = pd.DataFrame([{'First Name': 'Kelly', 'Last Name': 'Desjardins', \n",
    "                          'Role': 'Director of HR'},\n",
    "                         {'First Name': 'Sally', 'Last Name': 'Brooks', \n",
    "                          'Role': 'Course liasion'},\n",
    "                         {'First Name': 'James', 'Last Name': 'Wilde', \n",
    "                          'Role': 'Grader'}])\n",
    "student_df = pd.DataFrame([{'First Name': 'James', 'Last Name': 'Hammond', \n",
    "                            'School': 'Business'},\n",
    "                           {'First Name': 'Mike', 'Last Name': 'Smith', \n",
    "                            'School': 'Law'},\n",
    "                           {'First Name': 'Sally', 'Last Name': 'Brooks', \n",
    "                            'School': 'Engineering'}])"
   ]
  },
  {
   "cell_type": "code",
   "execution_count": null,
   "metadata": {
    "slideshow": {
     "slide_type": "slide"
    }
   },
   "outputs": [],
   "source": [
    "pd.merge(staff_df, student_df, how='inner', on=['First Name','Last Name'])"
   ]
  },
  {
   "cell_type": "markdown",
   "metadata": {
    "slideshow": {
     "slide_type": "slide"
    }
   },
   "source": [
    "* One last mention, if we want to just append a bunch of rows between dataframes we just use `pd.concat`"
   ]
  },
  {
   "cell_type": "code",
   "execution_count": null,
   "metadata": {
    "slideshow": {
     "slide_type": "subslide"
    }
   },
   "outputs": [],
   "source": [
    "staff1_df = pd.DataFrame([{'Name': 'James', 'Role': 'Grader', \n",
    "                          'Location': 'Washington Avenue'}])\n",
    "staff2_df = pd.DataFrame([{'Name': 'Kelly', 'Role': 'Director of HR', \n",
    "                          'Location': 'State Street'},\n",
    "                         {'Name': 'Sally', 'Role': 'Course liasion', \n",
    "                          'Location': 'Washington Avenue'}])\n",
    "\n",
    "pd.concat([staff1_df,staff2_df], keys=['staff1','staff2']) #keys is optional if you want to preserve index"
   ]
  }
 ],
 "metadata": {
  "celltoolbar": "Slideshow",
  "kernelspec": {
   "display_name": "Python 3",
   "language": "python",
   "name": "python3"
  },
  "language_info": {
   "codemirror_mode": {
    "name": "ipython",
    "version": 3
   },
   "file_extension": ".py",
   "mimetype": "text/x-python",
   "name": "python",
   "nbconvert_exporter": "python",
   "pygments_lexer": "ipython3",
   "version": "3.7.3"
  }
 },
 "nbformat": 4,
 "nbformat_minor": 4
}
