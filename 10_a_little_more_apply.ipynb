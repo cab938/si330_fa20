{
 "cells": [
  {
   "cell_type": "code",
   "execution_count": 12,
   "metadata": {},
   "outputs": [],
   "source": [
    "# Load some sample datasets\n",
    "import pickle\n",
    "with open('dataframes.pkl', 'rb') as f:\n",
    "    dataframes=pickle.load(f)\n",
    "persons=dataframes['persons']\n",
    "purchases=dataframes['purchases']\n",
    "companies=dataframes['companies']"
   ]
  },
  {
   "cell_type": "code",
   "execution_count": 13,
   "metadata": {},
   "outputs": [
    {
     "name": "stdout",
     "output_type": "stream",
     "text": [
      "457 ms ± 3 ms per loop (mean ± std. dev. of 7 runs, 1 loop each)\n"
     ]
    }
   ],
   "source": [
    "%%timeit local_persons=persons.copy()\n",
    "local_persons[\"street_address\"]=None\n",
    "for i in range(0,len(persons)):\n",
    "    local_persons.iloc[i,-1]=local_persons.iloc[i][\"address\"].split(\"\\n\")[0]\n",
    "    #local_persons.loc[i,\"street_address\"]=local_persons.iloc[i][\"address\"].split(\"\\n\")[0]\n",
    "    # don't do this! settingwithcopywarning!\n",
    "    #persons.iloc[i][\"street_address\"]=persons.iloc[i][\"address\"].split(\"\\n\")[0]"
   ]
  },
  {
   "cell_type": "code",
   "execution_count": 20,
   "metadata": {},
   "outputs": [
    {
     "name": "stdout",
     "output_type": "stream",
     "text": [
      "10.6 ms ± 19.1 µs per loop (mean ± std. dev. of 7 runs, 100 loops each)\n"
     ]
    }
   ],
   "source": [
    "%%timeit local_persons=persons.copy()\n",
    "\n",
    "def get_street_info(row):\n",
    "    return row[\"address\"].split(\"\\n\")[0]\n",
    "    \n",
    "local_persons[\"street_address\"]=local_persons.apply(get_street_info,axis=1)"
   ]
  },
  {
   "cell_type": "code",
   "execution_count": 19,
   "metadata": {},
   "outputs": [
    {
     "name": "stdout",
     "output_type": "stream",
     "text": [
      "10.6 ms ± 31.9 µs per loop (mean ± std. dev. of 7 runs, 100 loops each)\n"
     ]
    }
   ],
   "source": [
    "%%timeit local_persons=persons.copy()\n",
    "local_persons[\"street_address\"]=local_persons.apply(lambda row: row[\"address\"].split(\"\\n\")[0], axis=1)"
   ]
  },
  {
   "cell_type": "code",
   "execution_count": null,
   "metadata": {},
   "outputs": [],
   "source": [
    "# fun time, go and see how fast this is with regex and finditer()"
   ]
  }
 ],
 "metadata": {
  "kernelspec": {
   "display_name": "Python 3",
   "language": "python",
   "name": "python3"
  },
  "language_info": {
   "codemirror_mode": {
    "name": "ipython",
    "version": 3
   },
   "file_extension": ".py",
   "mimetype": "text/x-python",
   "name": "python",
   "nbconvert_exporter": "python",
   "pygments_lexer": "ipython3",
   "version": "3.7.3"
  }
 },
 "nbformat": 4,
 "nbformat_minor": 4
}
