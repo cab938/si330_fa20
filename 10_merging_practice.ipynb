{
 "cells": [
  {
   "cell_type": "code",
   "execution_count": null,
   "metadata": {},
   "outputs": [],
   "source": [
    "# Load some sample datasets\n",
    "import pickle\n",
    "with open('dataframes.pkl', 'rb') as f:\n",
    "    dataframes=pickle.load(f)"
   ]
  },
  {
   "cell_type": "code",
   "execution_count": null,
   "metadata": {},
   "outputs": [],
   "source": [
    "persons=dataframes['persons']\n",
    "purchases=dataframes['purchases']\n",
    "companies=dataframes['companies']"
   ]
  },
  {
   "cell_type": "code",
   "execution_count": null,
   "metadata": {},
   "outputs": [],
   "source": [
    "display(persons.head())\n",
    "display(purchases.head())\n",
    "display(companies.head())"
   ]
  },
  {
   "cell_type": "code",
   "execution_count": null,
   "metadata": {},
   "outputs": [],
   "source": [
    "import pandas as pd\n",
    "\n",
    "# Question 1\n",
    "# Get a list of all companies that Barbara Johnson has worked at"
   ]
  },
  {
   "cell_type": "code",
   "execution_count": null,
   "metadata": {},
   "outputs": [],
   "source": [
    "import pandas as pd\n",
    "df=pd.merge(persons,companies,on=\"ssn\")\n",
    "reduced_df=df[(df[\"first_name\"]==\"Barbara\") & (df[\"last_name\"]==\"Johnson\")]\n",
    "reduced_df[\"company\"]"
   ]
  },
  {
   "cell_type": "code",
   "execution_count": null,
   "metadata": {},
   "outputs": [],
   "source": [
    "# Question 2\n",
    "# Who hasn't made a purchase yet?\n",
    "# Another answer, using left join\n",
    "df=pd.merge(persons,purchases,how=\"left\",on=\"credit_card_number\")\n",
    "df[df[\"purchase_id\"].isnull()].head()\n",
    "\n",
    "\n",
    "# inner join\n",
    "df=pd.merge(persons,purchases,how=\"inner\",on=\"credit_card_number\")\n",
    "people_who_did=df[\"ssn\"]\n",
    "persons[~persons[\"ssn\"].isin(people_who_did)].head()"
   ]
  },
  {
   "cell_type": "code",
   "execution_count": null,
   "metadata": {},
   "outputs": [],
   "source": [
    "import numpy as np\n",
    "\n",
    "# Question 3\n",
    "# For everyone who bought something, what's the average price they paid?\n"
   ]
  },
  {
   "cell_type": "code",
   "execution_count": null,
   "metadata": {},
   "outputs": [],
   "source": [
    "# Question 4\n",
    "# Create a DataFrame of company name to ISBN indicating which companies may have reiumbersed people for \n",
    "# certain purchases\n"
   ]
  }
 ],
 "metadata": {
  "kernelspec": {
   "display_name": "Python 3",
   "language": "python",
   "name": "python3"
  },
  "language_info": {
   "codemirror_mode": {
    "name": "ipython",
    "version": 3
   },
   "file_extension": ".py",
   "mimetype": "text/x-python",
   "name": "python",
   "nbconvert_exporter": "python",
   "pygments_lexer": "ipython3",
   "version": "3.7.3"
  }
 },
 "nbformat": 4,
 "nbformat_minor": 4
}
