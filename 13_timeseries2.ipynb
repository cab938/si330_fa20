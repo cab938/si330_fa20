{
 "cells": [
  {
   "cell_type": "markdown",
   "metadata": {
    "slideshow": {
     "slide_type": "slide"
    }
   },
   "source": [
    "## Moving Window Functions\n",
    "* sometimes we want to do manipulation on a chunk of a dataframe by time period, e.g. 5 mins, instead of using groups\n",
    "* we can do this by just indexing into the dataframe with a date range comparison\n",
    "* let's look at examples on the stock market with amazon\n"
   ]
  },
  {
   "cell_type": "code",
   "execution_count": 1,
   "metadata": {
    "slideshow": {
     "slide_type": "slide"
    }
   },
   "outputs": [
    {
     "data": {
      "text/html": [
       "<div>\n",
       "<style scoped>\n",
       "    .dataframe tbody tr th:only-of-type {\n",
       "        vertical-align: middle;\n",
       "    }\n",
       "\n",
       "    .dataframe tbody tr th {\n",
       "        vertical-align: top;\n",
       "    }\n",
       "\n",
       "    .dataframe thead th {\n",
       "        text-align: right;\n",
       "    }\n",
       "</style>\n",
       "<table border=\"1\" class=\"dataframe\">\n",
       "  <thead>\n",
       "    <tr style=\"text-align: right;\">\n",
       "      <th></th>\n",
       "      <th>Date</th>\n",
       "      <th>Open</th>\n",
       "      <th>High</th>\n",
       "      <th>Low</th>\n",
       "      <th>Close</th>\n",
       "      <th>Adj Close</th>\n",
       "      <th>Volume</th>\n",
       "    </tr>\n",
       "  </thead>\n",
       "  <tbody>\n",
       "    <tr>\n",
       "      <th>0</th>\n",
       "      <td>1997-05-15</td>\n",
       "      <td>2.437500</td>\n",
       "      <td>2.500000</td>\n",
       "      <td>1.927083</td>\n",
       "      <td>1.958333</td>\n",
       "      <td>1.958333</td>\n",
       "      <td>72156000</td>\n",
       "    </tr>\n",
       "    <tr>\n",
       "      <th>1</th>\n",
       "      <td>1997-05-16</td>\n",
       "      <td>1.968750</td>\n",
       "      <td>1.979167</td>\n",
       "      <td>1.708333</td>\n",
       "      <td>1.729167</td>\n",
       "      <td>1.729167</td>\n",
       "      <td>14700000</td>\n",
       "    </tr>\n",
       "    <tr>\n",
       "      <th>2</th>\n",
       "      <td>1997-05-19</td>\n",
       "      <td>1.760417</td>\n",
       "      <td>1.770833</td>\n",
       "      <td>1.625000</td>\n",
       "      <td>1.708333</td>\n",
       "      <td>1.708333</td>\n",
       "      <td>6106800</td>\n",
       "    </tr>\n",
       "    <tr>\n",
       "      <th>3</th>\n",
       "      <td>1997-05-20</td>\n",
       "      <td>1.729167</td>\n",
       "      <td>1.750000</td>\n",
       "      <td>1.635417</td>\n",
       "      <td>1.635417</td>\n",
       "      <td>1.635417</td>\n",
       "      <td>5467200</td>\n",
       "    </tr>\n",
       "    <tr>\n",
       "      <th>4</th>\n",
       "      <td>1997-05-21</td>\n",
       "      <td>1.635417</td>\n",
       "      <td>1.645833</td>\n",
       "      <td>1.375000</td>\n",
       "      <td>1.427083</td>\n",
       "      <td>1.427083</td>\n",
       "      <td>18853200</td>\n",
       "    </tr>\n",
       "  </tbody>\n",
       "</table>\n",
       "</div>"
      ],
      "text/plain": [
       "         Date      Open      High       Low     Close  Adj Close    Volume\n",
       "0  1997-05-15  2.437500  2.500000  1.927083  1.958333   1.958333  72156000\n",
       "1  1997-05-16  1.968750  1.979167  1.708333  1.729167   1.729167  14700000\n",
       "2  1997-05-19  1.760417  1.770833  1.625000  1.708333   1.708333   6106800\n",
       "3  1997-05-20  1.729167  1.750000  1.635417  1.635417   1.635417   5467200\n",
       "4  1997-05-21  1.635417  1.645833  1.375000  1.427083   1.427083  18853200"
      ]
     },
     "execution_count": 1,
     "metadata": {},
     "output_type": "execute_result"
    }
   ],
   "source": [
    "import pandas as pd\n",
    "df = pd.read_csv(\"datasets/AMZN.csv\")\n",
    "df.head()"
   ]
  },
  {
   "cell_type": "code",
   "execution_count": 3,
   "metadata": {
    "slideshow": {
     "slide_type": "slide"
    }
   },
   "outputs": [
    {
     "data": {
      "text/plain": [
       "<matplotlib.axes._subplots.AxesSubplot at 0x7fa8e599eb70>"
      ]
     },
     "execution_count": 3,
     "metadata": {},
     "output_type": "execute_result"
    },
    {
     "data": {
      "image/png": "[encoded data removed]",
      "text/plain": [
       "<Figure size 432x288 with 1 Axes>"
      ]
     },
     "metadata": {
      "needs_background": "light"
     },
     "output_type": "display_data"
    }
   ],
   "source": [
    "%matplotlib inline\n",
    "# Let's look at the highs and lows\n",
    "amzn=df[[\"High\",\"Low\"]].set_index(pd.to_datetime(df[\"Date\"]))\n",
    "# just by this year\n",
    "amzn=amzn[amzn.index> '2020-01-01']\n",
    "import matplotlib.pyplot as plt\n",
    "amzn.plot()\n",
    "# notice we have two lines!"
   ]
  },
  {
   "cell_type": "markdown",
   "metadata": {
    "slideshow": {
     "slide_type": "slide"
    }
   },
   "source": [
    "* The `rolling()` operator lets us specify a window size and apply a function that works on that much data to every point in our time series\n",
    "* Close your eyes and imagine now one of those stock prices over time. How would we calculate the 7 day moving average?\n",
    "* First, what does the 7 day moving average even mean?\n"
   ]
  },
  {
   "cell_type": "markdown",
   "metadata": {
    "slideshow": {
     "slide_type": "subslide"
    }
   },
   "source": [
    "* Now, what's the algorithm you would use to calculate it?"
   ]
  },
  {
   "cell_type": "code",
   "execution_count": 4,
   "metadata": {
    "slideshow": {
     "slide_type": "slide"
    }
   },
   "outputs": [
    {
     "name": "stdout",
     "output_type": "stream",
     "text": [
      "1905.364257714286\n",
      "1905.3628277142857\n",
      "1905.4928325714286\n",
      "1901.945696\n",
      "1897.9028318571425\n",
      "1894.4228339999997\n",
      "1891.0585588571428\n",
      "1890.4242815714283\n",
      "1889.2785644285711\n",
      "1890.4042794285713\n",
      "1884.9957101428572\n",
      "1881.0699985714284\n",
      "1879.371425\n",
      "1876.3142785714288\n",
      "1898.2028458571433\n",
      "1920.848563\n",
      "1944.392857142857\n",
      "1977.25286\n",
      "2005.5657262857142\n",
      "2037.5343018571425\n",
      "2075.067173714285\n",
      "2093.6714565714287\n",
      "2112.492885142857\n",
      "2128.2757394285713\n",
      "2140.850027857143\n",
      "2156.5314591428573\n",
      "2168.8986118571424\n",
      "2174.782889142857\n",
      "2168.868617428571\n",
      "2148.7329101428572\n",
      "2129.3500454285713\n",
      "2108.725760428571\n",
      "2081.4300364285714\n",
      "2039.2385952857144\n",
      "2007.4843054285716\n",
      "1986.3100064285716\n",
      "1977.5528565714285\n",
      "1966.9985701428573\n",
      "1952.1699917142857\n",
      "1936.1371374285716\n",
      "1936.7814245714285\n",
      "1924.8971297142857\n",
      "1891.849993142857\n",
      "1864.4657158571426\n",
      "1835.7128558571428\n",
      "1828.128575\n",
      "1825.1128627142857\n",
      "1832.3600027142857\n",
      "1844.6000104285715\n",
      "1866.6571567142857\n",
      "1890.7557197142858\n",
      "1918.0142995714286\n",
      "1932.1157225714285\n",
      "1946.1342947142857\n",
      "1950.224295428571\n",
      "1955.3700125714288\n",
      "1959.021432142857\n",
      "1955.0971505714283\n",
      "1951.678571428571\n",
      "1957.6828614285714\n",
      "1971.3871374285714\n",
      "1981.4399938571428\n",
      "1990.0085624285714\n",
      "2023.5857108571429\n",
      "2075.6528495714288\n",
      "2133.801444\n",
      "2199.8700125714286\n",
      "2251.9100167142856\n",
      "2309.192871\n",
      "2362.808593714286\n",
      "2393.380022285714\n",
      "2412.2685895714285\n",
      "2424.705706\n",
      "2422.402832142857\n",
      "2418.6171178571426\n",
      "2411.032819714286\n",
      "2417.7028112857142\n",
      "2413.194231428571\n",
      "2399.3028041428574\n",
      "2389.3842424285717\n",
      "2376.894252142857\n",
      "2377.2513950000002\n",
      "2376.5871231428573\n",
      "2368.682826285715\n",
      "2376.762834714286\n",
      "2388.2942591428573\n",
      "2394.061418714286\n",
      "2401.7114257142857\n",
      "2409.854282857143\n",
      "2423.8199985714286\n",
      "2435.297154\n",
      "2450.5042898571432\n",
      "2459.3828822857145\n",
      "2469.4728655714284\n",
      "2469.8414481428567\n",
      "2470.4085868571424\n",
      "2464.3186035714284\n",
      "2461.0214495714285\n",
      "2453.604317857143\n",
      "2456.1971609999996\n",
      "2462.7028808571426\n",
      "2473.4271414285718\n",
      "2486.7171455714283\n",
      "2513.0114048571427\n",
      "2548.071428571428\n",
      "2576.3356934285716\n",
      "2595.4042619999996\n",
      "2606.327113571428\n",
      "2625.091413285714\n",
      "2642.948556142857\n",
      "2647.6928362857143\n",
      "2644.1328125714285\n",
      "2650.3642578571425\n",
      "2673.454276\n",
      "2703.739990285714\n",
      "2723.201416\n",
      "2741.425711428572\n",
      "2746.7343051428575\n",
      "2757.0485838571435\n",
      "2782.762869571429\n",
      "2807.398577\n",
      "2845.0957031428575\n",
      "2889.855713\n",
      "2932.9128419999993\n",
      "3003.9242468571424\n",
      "3067.548549285714\n",
      "3131.7328405714284\n",
      "3156.278529714286\n",
      "3161.774274714285\n",
      "3156.409982\n",
      "3147.842843285714\n",
      "3148.911446714286\n",
      "3152.5657435714284\n",
      "3124.8100237142858\n",
      "3120.6514718571425\n",
      "3111.112897571428\n",
      "3120.541469\n",
      "3128.125767285714\n",
      "3104.9543108571424\n",
      "3083.7285854285715\n",
      "3097.5600237142858\n",
      "3109.8071637142857\n",
      "3129.1871511428576\n",
      "3145.7000208571435\n",
      "3170.040004142857\n",
      "3198.847168\n",
      "3210.348598\n",
      "3197.834298428571\n",
      "3196.4614259999994\n",
      "3203.6442874285713\n",
      "3198.594273428572\n",
      "3191.094273428571\n",
      "3202.407122142857\n",
      "3222.891392428572\n",
      "3244.805699\n",
      "3264.807128857143\n",
      "3288.064278571429\n",
      "3313.6585517142857\n",
      "3350.3399830000003\n",
      "3369.3399830000003\n",
      "3386.1214422857147\n",
      "3412.1757112857135\n",
      "3440.6714562857137\n",
      "3465.2328751428568\n",
      "3483.948590857143\n",
      "3473.9143065714284\n",
      "3445.035749142857\n",
      "3426.437151285714\n",
      "3405.707136\n",
      "3363.345703285714\n",
      "3311.2228308571425\n",
      "3266.452846285714\n",
      "3238.7014162857135\n",
      "3207.069964\n",
      "3169.1585521428574\n",
      "3113.7457102857147\n",
      "3101.838553428572\n",
      "3093.211425857143\n",
      "3078.108572857143\n",
      "3065.8657227142858\n",
      "3086.6671665714284\n",
      "3108.1614467142854\n",
      "3144.00143\n",
      "3156.8600028571423\n",
      "3166.6885812857145\n",
      "3185.7214355714286\n",
      "3197.2157157142856\n",
      "3200.7814244285714\n",
      "3207.214285714286\n",
      "3218.0871581428573\n",
      "3256.9785852857144\n"
     ]
    }
   ],
   "source": [
    "import numpy as np\n",
    "for i in range(7,len(amzn)):\n",
    "    print(np.mean(amzn.iloc[i-7:i][\"High\"]))\n",
    "\n",
    "#a loop. ickers."
   ]
  },
  {
   "cell_type": "markdown",
   "metadata": {
    "slideshow": {
     "slide_type": "slide"
    }
   },
   "source": [
    "* In pandas, the `rolling` function allows us to do this with arbitrary window sizes and a function"
   ]
  },
  {
   "cell_type": "code",
   "execution_count": 5,
   "metadata": {
    "slideshow": {
     "slide_type": "subslide"
    }
   },
   "outputs": [
    {
     "name": "stderr",
     "output_type": "stream",
     "text": [
      "/opt/conda/lib/python3.7/site-packages/ipykernel_launcher.py:3: FutureWarning: Currently, 'apply' passes the values as ndarrays to the applied function. In the future, this will change to passing it as Series objects. You need to specify 'raw=True' to keep the current behaviour, and you can pass 'raw=False' to silence this warning\n",
      "  This is separate from the ipykernel package so we can avoid doing imports until\n"
     ]
    },
    {
     "data": {
      "text/html": [
       "<div>\n",
       "<style scoped>\n",
       "    .dataframe tbody tr th:only-of-type {\n",
       "        vertical-align: middle;\n",
       "    }\n",
       "\n",
       "    .dataframe tbody tr th {\n",
       "        vertical-align: top;\n",
       "    }\n",
       "\n",
       "    .dataframe thead th {\n",
       "        text-align: right;\n",
       "    }\n",
       "</style>\n",
       "<table border=\"1\" class=\"dataframe\">\n",
       "  <thead>\n",
       "    <tr style=\"text-align: right;\">\n",
       "      <th></th>\n",
       "      <th>High</th>\n",
       "      <th>Low</th>\n",
       "    </tr>\n",
       "    <tr>\n",
       "      <th>Date</th>\n",
       "      <th></th>\n",
       "      <th></th>\n",
       "    </tr>\n",
       "  </thead>\n",
       "  <tbody>\n",
       "    <tr>\n",
       "      <th>2020-01-02</th>\n",
       "      <td>NaN</td>\n",
       "      <td>NaN</td>\n",
       "    </tr>\n",
       "    <tr>\n",
       "      <th>2020-01-03</th>\n",
       "      <td>NaN</td>\n",
       "      <td>NaN</td>\n",
       "    </tr>\n",
       "    <tr>\n",
       "      <th>2020-01-06</th>\n",
       "      <td>NaN</td>\n",
       "      <td>NaN</td>\n",
       "    </tr>\n",
       "    <tr>\n",
       "      <th>2020-01-07</th>\n",
       "      <td>NaN</td>\n",
       "      <td>NaN</td>\n",
       "    </tr>\n",
       "    <tr>\n",
       "      <th>2020-01-08</th>\n",
       "      <td>NaN</td>\n",
       "      <td>NaN</td>\n",
       "    </tr>\n",
       "    <tr>\n",
       "      <th>2020-01-09</th>\n",
       "      <td>NaN</td>\n",
       "      <td>NaN</td>\n",
       "    </tr>\n",
       "    <tr>\n",
       "      <th>2020-01-10</th>\n",
       "      <td>1905.364258</td>\n",
       "      <td>1877.561436</td>\n",
       "    </tr>\n",
       "    <tr>\n",
       "      <th>2020-01-13</th>\n",
       "      <td>1905.362828</td>\n",
       "      <td>1879.940011</td>\n",
       "    </tr>\n",
       "    <tr>\n",
       "      <th>2020-01-14</th>\n",
       "      <td>1905.492833</td>\n",
       "      <td>1879.090018</td>\n",
       "    </tr>\n",
       "    <tr>\n",
       "      <th>2020-01-15</th>\n",
       "      <td>1901.945696</td>\n",
       "      <td>1878.388585</td>\n",
       "    </tr>\n",
       "    <tr>\n",
       "      <th>2020-01-16</th>\n",
       "      <td>1897.902832</td>\n",
       "      <td>1874.671439</td>\n",
       "    </tr>\n",
       "    <tr>\n",
       "      <th>2020-01-17</th>\n",
       "      <td>1894.422834</td>\n",
       "      <td>1870.501448</td>\n",
       "    </tr>\n",
       "    <tr>\n",
       "      <th>2020-01-21</th>\n",
       "      <td>1891.058559</td>\n",
       "      <td>1865.387155</td>\n",
       "    </tr>\n",
       "    <tr>\n",
       "      <th>2020-01-22</th>\n",
       "      <td>1890.424282</td>\n",
       "      <td>1865.864293</td>\n",
       "    </tr>\n",
       "    <tr>\n",
       "      <th>2020-01-23</th>\n",
       "      <td>1889.278564</td>\n",
       "      <td>1864.715716</td>\n",
       "    </tr>\n",
       "    <tr>\n",
       "      <th>2020-01-24</th>\n",
       "      <td>1890.404279</td>\n",
       "      <td>1863.128558</td>\n",
       "    </tr>\n",
       "    <tr>\n",
       "      <th>2020-01-27</th>\n",
       "      <td>1884.995710</td>\n",
       "      <td>1857.449986</td>\n",
       "    </tr>\n",
       "    <tr>\n",
       "      <th>2020-01-28</th>\n",
       "      <td>1881.069999</td>\n",
       "      <td>1852.307129</td>\n",
       "    </tr>\n",
       "    <tr>\n",
       "      <th>2020-01-29</th>\n",
       "      <td>1879.371425</td>\n",
       "      <td>1851.988560</td>\n",
       "    </tr>\n",
       "    <tr>\n",
       "      <th>2020-01-30</th>\n",
       "      <td>1876.314279</td>\n",
       "      <td>1850.647130</td>\n",
       "    </tr>\n",
       "    <tr>\n",
       "      <th>2020-01-31</th>\n",
       "      <td>1898.202846</td>\n",
       "      <td>1867.637137</td>\n",
       "    </tr>\n",
       "    <tr>\n",
       "      <th>2020-02-03</th>\n",
       "      <td>1920.848563</td>\n",
       "      <td>1885.849993</td>\n",
       "    </tr>\n",
       "    <tr>\n",
       "      <th>2020-02-04</th>\n",
       "      <td>1944.392857</td>\n",
       "      <td>1909.840001</td>\n",
       "    </tr>\n",
       "    <tr>\n",
       "      <th>2020-02-05</th>\n",
       "      <td>1977.252860</td>\n",
       "      <td>1940.791434</td>\n",
       "    </tr>\n",
       "    <tr>\n",
       "      <th>2020-02-06</th>\n",
       "      <td>2005.565726</td>\n",
       "      <td>1968.617153</td>\n",
       "    </tr>\n",
       "    <tr>\n",
       "      <th>2020-02-07</th>\n",
       "      <td>2037.534302</td>\n",
       "      <td>1994.771432</td>\n",
       "    </tr>\n",
       "    <tr>\n",
       "      <th>2020-02-10</th>\n",
       "      <td>2075.067174</td>\n",
       "      <td>2028.250000</td>\n",
       "    </tr>\n",
       "    <tr>\n",
       "      <th>2020-02-11</th>\n",
       "      <td>2093.671457</td>\n",
       "      <td>2047.354283</td>\n",
       "    </tr>\n",
       "    <tr>\n",
       "      <th>2020-02-12</th>\n",
       "      <td>2112.492885</td>\n",
       "      <td>2069.502860</td>\n",
       "    </tr>\n",
       "    <tr>\n",
       "      <th>2020-02-13</th>\n",
       "      <td>2128.275739</td>\n",
       "      <td>2087.592861</td>\n",
       "    </tr>\n",
       "    <tr>\n",
       "      <th>...</th>\n",
       "      <td>...</td>\n",
       "      <td>...</td>\n",
       "    </tr>\n",
       "    <tr>\n",
       "      <th>2020-09-01</th>\n",
       "      <td>3440.671456</td>\n",
       "      <td>3357.947161</td>\n",
       "    </tr>\n",
       "    <tr>\n",
       "      <th>2020-09-02</th>\n",
       "      <td>3465.232875</td>\n",
       "      <td>3390.680001</td>\n",
       "    </tr>\n",
       "    <tr>\n",
       "      <th>2020-09-03</th>\n",
       "      <td>3483.948591</td>\n",
       "      <td>3395.822858</td>\n",
       "    </tr>\n",
       "    <tr>\n",
       "      <th>2020-09-04</th>\n",
       "      <td>3473.914307</td>\n",
       "      <td>3362.474261</td>\n",
       "    </tr>\n",
       "    <tr>\n",
       "      <th>2020-09-08</th>\n",
       "      <td>3445.035749</td>\n",
       "      <td>3327.045689</td>\n",
       "    </tr>\n",
       "    <tr>\n",
       "      <th>2020-09-09</th>\n",
       "      <td>3426.437151</td>\n",
       "      <td>3298.259975</td>\n",
       "    </tr>\n",
       "    <tr>\n",
       "      <th>2020-09-10</th>\n",
       "      <td>3405.707136</td>\n",
       "      <td>3264.767125</td>\n",
       "    </tr>\n",
       "    <tr>\n",
       "      <th>2020-09-11</th>\n",
       "      <td>3363.345703</td>\n",
       "      <td>3210.049979</td>\n",
       "    </tr>\n",
       "    <tr>\n",
       "      <th>2020-09-14</th>\n",
       "      <td>3311.222831</td>\n",
       "      <td>3154.237130</td>\n",
       "    </tr>\n",
       "    <tr>\n",
       "      <th>2020-09-15</th>\n",
       "      <td>3266.452846</td>\n",
       "      <td>3126.511405</td>\n",
       "    </tr>\n",
       "    <tr>\n",
       "      <th>2020-09-16</th>\n",
       "      <td>3238.701416</td>\n",
       "      <td>3121.228550</td>\n",
       "    </tr>\n",
       "    <tr>\n",
       "      <th>2020-09-17</th>\n",
       "      <td>3207.069964</td>\n",
       "      <td>3098.735700</td>\n",
       "    </tr>\n",
       "    <tr>\n",
       "      <th>2020-09-18</th>\n",
       "      <td>3169.158552</td>\n",
       "      <td>3058.812849</td>\n",
       "    </tr>\n",
       "    <tr>\n",
       "      <th>2020-09-21</th>\n",
       "      <td>3113.745710</td>\n",
       "      <td>3016.019985</td>\n",
       "    </tr>\n",
       "    <tr>\n",
       "      <th>2020-09-22</th>\n",
       "      <td>3101.838553</td>\n",
       "      <td>3004.051409</td>\n",
       "    </tr>\n",
       "    <tr>\n",
       "      <th>2020-09-23</th>\n",
       "      <td>3093.211426</td>\n",
       "      <td>2989.248535</td>\n",
       "    </tr>\n",
       "    <tr>\n",
       "      <th>2020-09-24</th>\n",
       "      <td>3078.108573</td>\n",
       "      <td>2968.688546</td>\n",
       "    </tr>\n",
       "    <tr>\n",
       "      <th>2020-09-25</th>\n",
       "      <td>3065.865723</td>\n",
       "      <td>2957.952846</td>\n",
       "    </tr>\n",
       "    <tr>\n",
       "      <th>2020-09-28</th>\n",
       "      <td>3086.667167</td>\n",
       "      <td>2978.612828</td>\n",
       "    </tr>\n",
       "    <tr>\n",
       "      <th>2020-09-29</th>\n",
       "      <td>3108.161447</td>\n",
       "      <td>3011.041399</td>\n",
       "    </tr>\n",
       "    <tr>\n",
       "      <th>2020-09-30</th>\n",
       "      <td>3144.001430</td>\n",
       "      <td>3048.611398</td>\n",
       "    </tr>\n",
       "    <tr>\n",
       "      <th>2020-10-01</th>\n",
       "      <td>3156.860003</td>\n",
       "      <td>3073.154262</td>\n",
       "    </tr>\n",
       "    <tr>\n",
       "      <th>2020-10-02</th>\n",
       "      <td>3166.688581</td>\n",
       "      <td>3091.814279</td>\n",
       "    </tr>\n",
       "    <tr>\n",
       "      <th>2020-10-05</th>\n",
       "      <td>3185.721436</td>\n",
       "      <td>3116.935721</td>\n",
       "    </tr>\n",
       "    <tr>\n",
       "      <th>2020-10-06</th>\n",
       "      <td>3197.215716</td>\n",
       "      <td>3129.935721</td>\n",
       "    </tr>\n",
       "    <tr>\n",
       "      <th>2020-10-07</th>\n",
       "      <td>3200.781424</td>\n",
       "      <td>3132.110003</td>\n",
       "    </tr>\n",
       "    <tr>\n",
       "      <th>2020-10-08</th>\n",
       "      <td>3207.214286</td>\n",
       "      <td>3138.174282</td>\n",
       "    </tr>\n",
       "    <tr>\n",
       "      <th>2020-10-09</th>\n",
       "      <td>3218.087158</td>\n",
       "      <td>3147.294294</td>\n",
       "    </tr>\n",
       "    <tr>\n",
       "      <th>2020-10-12</th>\n",
       "      <td>3256.978585</td>\n",
       "      <td>3171.230015</td>\n",
       "    </tr>\n",
       "    <tr>\n",
       "      <th>2020-10-13</th>\n",
       "      <td>3299.347133</td>\n",
       "      <td>3214.261440</td>\n",
       "    </tr>\n",
       "  </tbody>\n",
       "</table>\n",
       "<p>198 rows × 2 columns</p>\n",
       "</div>"
      ],
      "text/plain": [
       "                   High          Low\n",
       "Date                                \n",
       "2020-01-02          NaN          NaN\n",
       "2020-01-03          NaN          NaN\n",
       "2020-01-06          NaN          NaN\n",
       "2020-01-07          NaN          NaN\n",
       "2020-01-08          NaN          NaN\n",
       "...                 ...          ...\n",
       "2020-10-07  3200.781424  3132.110003\n",
       "2020-10-08  3207.214286  3138.174282\n",
       "2020-10-09  3218.087158  3147.294294\n",
       "2020-10-12  3256.978585  3171.230015\n",
       "2020-10-13  3299.347133  3214.261440\n",
       "\n",
       "[198 rows x 2 columns]"
      ]
     },
     "execution_count": 5,
     "metadata": {},
     "output_type": "execute_result"
    }
   ],
   "source": [
    "# Here, let's do a 7 day rolling on the dataframe\n",
    "# Note the output we get back\n",
    "amzn.rolling(7).apply(np.mean)"
   ]
  },
  {
   "cell_type": "code",
   "execution_count": 6,
   "metadata": {
    "slideshow": {
     "slide_type": "slide"
    }
   },
   "outputs": [
    {
     "name": "stderr",
     "output_type": "stream",
     "text": [
      "/opt/conda/lib/python3.7/site-packages/ipykernel_launcher.py:4: FutureWarning: Currently, 'apply' passes the values as ndarrays to the applied function. In the future, this will change to passing it as Series objects. You need to specify 'raw=True' to keep the current behaviour, and you can pass 'raw=False' to silence this warning\n",
      "  after removing the cwd from sys.path.\n"
     ]
    },
    {
     "data": {
      "text/plain": [
       "<matplotlib.axes._subplots.AxesSubplot at 0x7fa8e58a7358>"
      ]
     },
     "execution_count": 6,
     "metadata": {},
     "output_type": "execute_result"
    },
    {
     "data": {
      "image/png": "[encoded data removed]",
      "text/plain": [
       "<Figure size 432x288 with 1 Axes>"
      ]
     },
     "metadata": {
      "needs_background": "light"
     },
     "output_type": "display_data"
    }
   ],
   "source": [
    "# there are the usual benefits (faster, less error prone, not icky) versus iteration\n",
    "# we can also control those nan's by specifying how much data we want to be present\n",
    "# before applying the function\n",
    "amzn.rolling(7,min_periods=1).apply(np.mean).plot()"
   ]
  },
  {
   "cell_type": "code",
   "execution_count": 7,
   "metadata": {
    "slideshow": {
     "slide_type": "slide"
    }
   },
   "outputs": [
    {
     "name": "stderr",
     "output_type": "stream",
     "text": [
      "/opt/conda/lib/python3.7/site-packages/ipykernel_launcher.py:2: FutureWarning: Currently, 'apply' passes the values as ndarrays to the applied function. In the future, this will change to passing it as Series objects. You need to specify 'raw=True' to keep the current behaviour, and you can pass 'raw=False' to silence this warning\n",
      "  \n"
     ]
    },
    {
     "data": {
      "text/plain": [
       "<matplotlib.axes._subplots.AxesSubplot at 0x7fa8e58b9390>"
      ]
     },
     "execution_count": 7,
     "metadata": {},
     "output_type": "execute_result"
    },
    {
     "data": {
      "image/png": "[encoded data removed]",
      "text/plain": [
       "<Figure size 432x288 with 1 Axes>"
      ]
     },
     "metadata": {
      "needs_background": "light"
     },
     "output_type": "display_data"
    }
   ],
   "source": [
    "# here's a 30 day moving average\n",
    "amzn.rolling(30,min_periods=1).apply(np.mean).plot()"
   ]
  },
  {
   "cell_type": "markdown",
   "metadata": {
    "slideshow": {
     "slide_type": "slide"
    }
   },
   "source": [
    "# Time Series and Gaps\n",
    "What do we do when we have missing data in a time series?"
   ]
  },
  {
   "cell_type": "code",
   "execution_count": 8,
   "metadata": {
    "slideshow": {
     "slide_type": "slide"
    }
   },
   "outputs": [
    {
     "data": {
      "text/html": [
       "<div>\n",
       "<style scoped>\n",
       "    .dataframe tbody tr th:only-of-type {\n",
       "        vertical-align: middle;\n",
       "    }\n",
       "\n",
       "    .dataframe tbody tr th {\n",
       "        vertical-align: top;\n",
       "    }\n",
       "\n",
       "    .dataframe thead th {\n",
       "        text-align: right;\n",
       "    }\n",
       "</style>\n",
       "<table border=\"1\" class=\"dataframe\">\n",
       "  <thead>\n",
       "    <tr style=\"text-align: right;\">\n",
       "      <th></th>\n",
       "      <th>DD</th>\n",
       "      <th>MM</th>\n",
       "      <th>YY</th>\n",
       "      <th>London</th>\n",
       "      <th>Bristol</th>\n",
       "      <th>Liverpool</th>\n",
       "      <th>Manchester</th>\n",
       "      <th>Newcastle</th>\n",
       "      <th>Birmingham</th>\n",
       "      <th>Sheffield</th>\n",
       "    </tr>\n",
       "  </thead>\n",
       "  <tbody>\n",
       "    <tr>\n",
       "      <th>0</th>\n",
       "      <td>10.0</td>\n",
       "      <td>1.0</td>\n",
       "      <td>48.0</td>\n",
       "      <td>NaN</td>\n",
       "      <td>3.0</td>\n",
       "      <td>40.0</td>\n",
       "      <td>22.0</td>\n",
       "      <td>58.0</td>\n",
       "      <td>78.0</td>\n",
       "      <td>9.0</td>\n",
       "    </tr>\n",
       "    <tr>\n",
       "      <th>1</th>\n",
       "      <td>17.0</td>\n",
       "      <td>1.0</td>\n",
       "      <td>48.0</td>\n",
       "      <td>240.0</td>\n",
       "      <td>4.0</td>\n",
       "      <td>51.0</td>\n",
       "      <td>19.0</td>\n",
       "      <td>52.0</td>\n",
       "      <td>84.0</td>\n",
       "      <td>11.0</td>\n",
       "    </tr>\n",
       "    <tr>\n",
       "      <th>2</th>\n",
       "      <td>24.0</td>\n",
       "      <td>1.0</td>\n",
       "      <td>48.0</td>\n",
       "      <td>284.0</td>\n",
       "      <td>3.0</td>\n",
       "      <td>54.0</td>\n",
       "      <td>23.0</td>\n",
       "      <td>34.0</td>\n",
       "      <td>65.0</td>\n",
       "      <td>11.0</td>\n",
       "    </tr>\n",
       "    <tr>\n",
       "      <th>3</th>\n",
       "      <td>31.0</td>\n",
       "      <td>1.0</td>\n",
       "      <td>48.0</td>\n",
       "      <td>340.0</td>\n",
       "      <td>5.0</td>\n",
       "      <td>54.0</td>\n",
       "      <td>31.0</td>\n",
       "      <td>25.0</td>\n",
       "      <td>106.0</td>\n",
       "      <td>4.0</td>\n",
       "    </tr>\n",
       "    <tr>\n",
       "      <th>4</th>\n",
       "      <td>7.0</td>\n",
       "      <td>2.0</td>\n",
       "      <td>48.0</td>\n",
       "      <td>511.0</td>\n",
       "      <td>1.0</td>\n",
       "      <td>89.0</td>\n",
       "      <td>66.0</td>\n",
       "      <td>27.0</td>\n",
       "      <td>142.0</td>\n",
       "      <td>7.0</td>\n",
       "    </tr>\n",
       "  </tbody>\n",
       "</table>\n",
       "</div>"
      ],
      "text/plain": [
       "     DD   MM    YY  London  Bristol  Liverpool  Manchester  Newcastle  \\\n",
       "0  10.0  1.0  48.0     NaN      3.0       40.0        22.0       58.0   \n",
       "1  17.0  1.0  48.0   240.0      4.0       51.0        19.0       52.0   \n",
       "2  24.0  1.0  48.0   284.0      3.0       54.0        23.0       34.0   \n",
       "3  31.0  1.0  48.0   340.0      5.0       54.0        31.0       25.0   \n",
       "4   7.0  2.0  48.0   511.0      1.0       89.0        66.0       27.0   \n",
       "\n",
       "   Birmingham  Sheffield  \n",
       "0        78.0        9.0  \n",
       "1        84.0       11.0  \n",
       "2        65.0       11.0  \n",
       "3       106.0        4.0  \n",
       "4       142.0        7.0  "
      ]
     },
     "execution_count": 8,
     "metadata": {},
     "output_type": "execute_result"
    }
   ],
   "source": [
    "import pandas as pd\n",
    "# let's look at some data reported cases of measles in England and Wales\n",
    "df=pd.read_csv(\"datasets/ewcitmeas.txt\", delim_whitespace=True, dtype=float, na_values=\"*\")\n",
    "df.head()"
   ]
  },
  {
   "cell_type": "code",
   "execution_count": 9,
   "metadata": {
    "slideshow": {
     "slide_type": "slide"
    }
   },
   "outputs": [
    {
     "data": {
      "text/html": [
       "<div>\n",
       "<style scoped>\n",
       "    .dataframe tbody tr th:only-of-type {\n",
       "        vertical-align: middle;\n",
       "    }\n",
       "\n",
       "    .dataframe tbody tr th {\n",
       "        vertical-align: top;\n",
       "    }\n",
       "\n",
       "    .dataframe thead th {\n",
       "        text-align: right;\n",
       "    }\n",
       "</style>\n",
       "<table border=\"1\" class=\"dataframe\">\n",
       "  <thead>\n",
       "    <tr style=\"text-align: right;\">\n",
       "      <th></th>\n",
       "      <th>London</th>\n",
       "      <th>Bristol</th>\n",
       "      <th>Liverpool</th>\n",
       "      <th>Manchester</th>\n",
       "      <th>Newcastle</th>\n",
       "      <th>Birmingham</th>\n",
       "      <th>Sheffield</th>\n",
       "    </tr>\n",
       "  </thead>\n",
       "  <tbody>\n",
       "    <tr>\n",
       "      <th>1948-01-10</th>\n",
       "      <td>NaN</td>\n",
       "      <td>3.0</td>\n",
       "      <td>40.0</td>\n",
       "      <td>22.0</td>\n",
       "      <td>58.0</td>\n",
       "      <td>78.0</td>\n",
       "      <td>9.0</td>\n",
       "    </tr>\n",
       "    <tr>\n",
       "      <th>1948-01-17</th>\n",
       "      <td>240.0</td>\n",
       "      <td>4.0</td>\n",
       "      <td>51.0</td>\n",
       "      <td>19.0</td>\n",
       "      <td>52.0</td>\n",
       "      <td>84.0</td>\n",
       "      <td>11.0</td>\n",
       "    </tr>\n",
       "    <tr>\n",
       "      <th>1948-01-24</th>\n",
       "      <td>284.0</td>\n",
       "      <td>3.0</td>\n",
       "      <td>54.0</td>\n",
       "      <td>23.0</td>\n",
       "      <td>34.0</td>\n",
       "      <td>65.0</td>\n",
       "      <td>11.0</td>\n",
       "    </tr>\n",
       "    <tr>\n",
       "      <th>1948-01-31</th>\n",
       "      <td>340.0</td>\n",
       "      <td>5.0</td>\n",
       "      <td>54.0</td>\n",
       "      <td>31.0</td>\n",
       "      <td>25.0</td>\n",
       "      <td>106.0</td>\n",
       "      <td>4.0</td>\n",
       "    </tr>\n",
       "    <tr>\n",
       "      <th>1948-02-07</th>\n",
       "      <td>511.0</td>\n",
       "      <td>1.0</td>\n",
       "      <td>89.0</td>\n",
       "      <td>66.0</td>\n",
       "      <td>27.0</td>\n",
       "      <td>142.0</td>\n",
       "      <td>7.0</td>\n",
       "    </tr>\n",
       "  </tbody>\n",
       "</table>\n",
       "</div>"
      ],
      "text/plain": [
       "            London  Bristol  Liverpool  Manchester  Newcastle  Birmingham  \\\n",
       "1948-01-10     NaN      3.0       40.0        22.0       58.0        78.0   \n",
       "1948-01-17   240.0      4.0       51.0        19.0       52.0        84.0   \n",
       "1948-01-24   284.0      3.0       54.0        23.0       34.0        65.0   \n",
       "1948-01-31   340.0      5.0       54.0        31.0       25.0       106.0   \n",
       "1948-02-07   511.0      1.0       89.0        66.0       27.0       142.0   \n",
       "\n",
       "            Sheffield  \n",
       "1948-01-10        9.0  \n",
       "1948-01-17       11.0  \n",
       "1948-01-24       11.0  \n",
       "1948-01-31        4.0  \n",
       "1948-02-07        7.0  "
      ]
     },
     "execution_count": 9,
     "metadata": {},
     "output_type": "execute_result"
    }
   ],
   "source": [
    "# what a painful date time format! Welcome to my world!\n",
    "df.rename(columns={'DD': 'day', 'MM': 'month', 'YY': 'year'}, inplace=True)\n",
    "df['year'] = df['year'] + 1900\n",
    "df=df.set_index(pd.to_datetime(df[['year', 'month', 'day']])).drop([\"day\",\"month\",\"year\"], axis='columns')\n",
    "df.head()"
   ]
  },
  {
   "cell_type": "code",
   "execution_count": 10,
   "metadata": {
    "slideshow": {
     "slide_type": "slide"
    }
   },
   "outputs": [],
   "source": [
    "%matplotlib inline\n",
    "# we can setup some features for matplotlib here\n",
    "import matplotlib as mpl\n",
    "mpl.rcParams['figure.figsize'] = 12, 8"
   ]
  },
  {
   "cell_type": "code",
   "execution_count": 11,
   "metadata": {
    "slideshow": {
     "slide_type": "slide"
    }
   },
   "outputs": [
    {
     "data": {
      "text/plain": [
       "<matplotlib.axes._subplots.AxesSubplot at 0x7fa8e5717e48>"
      ]
     },
     "execution_count": 11,
     "metadata": {},
     "output_type": "execute_result"
    },
    {
     "data": {
      "image/png": "[encoded data removed]",
      "text/plain": [
       "<Figure size 864x576 with 1 Axes>"
      ]
     },
     "metadata": {
      "needs_background": "light"
     },
     "output_type": "display_data"
    }
   ],
   "source": [
    "# instead of the line plots we have been using, let's look at a scatter plot\n",
    "df[\"London\"].plot(style=\".\")"
   ]
  },
  {
   "cell_type": "markdown",
   "metadata": {
    "slideshow": {
     "slide_type": "slide"
    }
   },
   "source": [
    "* We notice several things here, first, the seasonality of the measels is shown. Second that the resultion of weekly makes sense sometimes, but at other times it seems like we could be helped with more frequent data collection"
   ]
  },
  {
   "cell_type": "code",
   "execution_count": 12,
   "metadata": {
    "slideshow": {
     "slide_type": "slide"
    }
   },
   "outputs": [
    {
     "data": {
      "text/plain": [
       "1967-10-13      72.0\n",
       "1987-12-11      95.0\n",
       "1948-12-18     180.0\n",
       "1971-09-10      92.0\n",
       "1949-03-19    1231.0\n",
       "Name: London, dtype: float64"
      ]
     },
     "metadata": {},
     "output_type": "display_data"
    }
   ],
   "source": [
    "# I want to show you how to deal with holes in your data\n",
    "# I'm just going to pull out 500 obsertvations as an example into a new dataframe\n",
    "df2=df[\"London\"].sample(500)\n",
    "# Now, look at the randomness of dates/values in the dataframe itself\n",
    "display(df2.head())"
   ]
  },
  {
   "cell_type": "code",
   "execution_count": 13,
   "metadata": {
    "slideshow": {
     "slide_type": "slide"
    }
   },
   "outputs": [
    {
     "data": {
      "text/plain": [
       "1948-01-31    340.0\n",
       "1948-02-01    340.0\n",
       "1948-02-02    340.0\n",
       "1948-02-03    340.0\n",
       "1948-02-04    340.0\n",
       "Freq: D, Name: London, dtype: float64"
      ]
     },
     "execution_count": 13,
     "metadata": {},
     "output_type": "execute_result"
    }
   ],
   "source": [
    "# One way of filling holes is to resample and forward fill values\n",
    "df_ffill=df2.resample(\"D\").fillna(method=\"ffill\")\n",
    "df_ffill.head()"
   ]
  },
  {
   "cell_type": "code",
   "execution_count": 14,
   "metadata": {
    "slideshow": {
     "slide_type": "slide"
    }
   },
   "outputs": [
    {
     "data": {
      "text/plain": [
       "<matplotlib.axes._subplots.AxesSubplot at 0x7fa8dd6a4550>"
      ]
     },
     "execution_count": 14,
     "metadata": {},
     "output_type": "execute_result"
    },
    {
     "data": {
      "image/png": "[encoded data removed]",
      "text/plain": [
       "<Figure size 864x576 with 1 Axes>"
      ]
     },
     "metadata": {
      "needs_background": "light"
     },
     "output_type": "display_data"
    },
    {
     "data": {
      "image/png": "[encoded data removed]",
      "text/plain": [
       "<Figure size 864x576 with 1 Axes>"
      ]
     },
     "metadata": {
      "needs_background": "light"
     },
     "output_type": "display_data"
    }
   ],
   "source": [
    "#let's compare these two\n",
    "df2.plot(style=\".\")\n",
    "plt.figure()\n",
    "df_ffill.plot(style=\".\")"
   ]
  },
  {
   "cell_type": "code",
   "execution_count": 15,
   "metadata": {
    "slideshow": {
     "slide_type": "slide"
    }
   },
   "outputs": [
    {
     "name": "stderr",
     "output_type": "stream",
     "text": [
      "/opt/conda/lib/python3.7/site-packages/ipykernel_launcher.py:3: FutureWarning: Currently, 'apply' passes the values as ndarrays to the applied function. In the future, this will change to passing it as Series objects. You need to specify 'raw=True' to keep the current behaviour, and you can pass 'raw=False' to silence this warning\n",
      "  This is separate from the ipykernel package so we can avoid doing imports until\n"
     ]
    },
    {
     "data": {
      "text/plain": [
       "<matplotlib.axes._subplots.AxesSubplot at 0x7fa8dd4528d0>"
      ]
     },
     "execution_count": 15,
     "metadata": {},
     "output_type": "execute_result"
    },
    {
     "data": {
      "image/png": "[encoded data removed]",
      "text/plain": [
       "<Figure size 864x576 with 1 Axes>"
      ]
     },
     "metadata": {
      "needs_background": "light"
     },
     "output_type": "display_data"
    }
   ],
   "source": [
    "# What if we applied a rolling window?\n",
    "import numpy as np\n",
    "df2.resample(\"D\").asfreq().rolling(10,min_periods=1).apply(np.nanmean).dropna().plot(style=\".\")"
   ]
  },
  {
   "cell_type": "markdown",
   "metadata": {
    "slideshow": {
     "slide_type": "slide"
    }
   },
   "source": [
    "* We have another great option in pandas, which is the `interpolate()` function.\n",
    "* interpolate fills na values in different ways depending upon the parameters you pass\n",
    "* it actually has some specific time series benefits but only for higher frequency data (day or better)"
   ]
  },
  {
   "cell_type": "code",
   "execution_count": 16,
   "metadata": {
    "slideshow": {
     "slide_type": "slide"
    }
   },
   "outputs": [
    {
     "data": {
      "text/plain": [
       "<matplotlib.axes._subplots.AxesSubplot at 0x7fa8dd36e320>"
      ]
     },
     "execution_count": 16,
     "metadata": {},
     "output_type": "execute_result"
    },
    {
     "data": {
      "image/png": "[encoded data removed]",
      "text/plain": [
       "<Figure size 864x576 with 1 Axes>"
      ]
     },
     "metadata": {
      "needs_background": "light"
     },
     "output_type": "display_data"
    }
   ],
   "source": [
    "df2.resample(\"D\").interpolate(method=\"linear\").plot(style=\".\")"
   ]
  },
  {
   "cell_type": "code",
   "execution_count": 20,
   "metadata": {
    "slideshow": {
     "slide_type": "slide"
    }
   },
   "outputs": [
    {
     "data": {
      "text/plain": [
       "<matplotlib.axes._subplots.AxesSubplot at 0x7fa8b3c90908>"
      ]
     },
     "execution_count": 20,
     "metadata": {},
     "output_type": "execute_result"
    },
    {
     "data": {
      "image/png": "[encoded data removed]",
      "text/plain": [
       "<Figure size 864x576 with 1 Axes>"
      ]
     },
     "metadata": {
      "needs_background": "light"
     },
     "output_type": "display_data"
    }
   ],
   "source": [
    "df2.resample(\"D\").interpolate(method=\"polynomial\", order=3).plot(style=\".\")"
   ]
  },
  {
   "cell_type": "code",
   "execution_count": 21,
   "metadata": {
    "slideshow": {
     "slide_type": "slide"
    }
   },
   "outputs": [
    {
     "data": {
      "text/html": [
       "<div>\n",
       "<style scoped>\n",
       "    .dataframe tbody tr th:only-of-type {\n",
       "        vertical-align: middle;\n",
       "    }\n",
       "\n",
       "    .dataframe tbody tr th {\n",
       "        vertical-align: top;\n",
       "    }\n",
       "\n",
       "    .dataframe thead th {\n",
       "        text-align: right;\n",
       "    }\n",
       "</style>\n",
       "<table border=\"1\" class=\"dataframe\">\n",
       "  <thead>\n",
       "    <tr style=\"text-align: right;\">\n",
       "      <th></th>\n",
       "      <th>position_lat</th>\n",
       "      <th>position_long</th>\n",
       "      <th>timestamp</th>\n",
       "      <th>Power</th>\n",
       "      <th>heart_rate</th>\n",
       "      <th>enhanced_altitude</th>\n",
       "    </tr>\n",
       "  </thead>\n",
       "  <tbody>\n",
       "    <tr>\n",
       "      <th>0</th>\n",
       "      <td>NaN</td>\n",
       "      <td>NaN</td>\n",
       "      <td>2019-08-21 03:24:16</td>\n",
       "      <td>201.0</td>\n",
       "      <td>119.0</td>\n",
       "      <td>294.0</td>\n",
       "    </tr>\n",
       "    <tr>\n",
       "      <th>1</th>\n",
       "      <td>504612085.0</td>\n",
       "      <td>-999397826.0</td>\n",
       "      <td>2019-08-21 03:24:17</td>\n",
       "      <td>210.0</td>\n",
       "      <td>120.0</td>\n",
       "      <td>308.0</td>\n",
       "    </tr>\n",
       "    <tr>\n",
       "      <th>2</th>\n",
       "      <td>504614191.0</td>\n",
       "      <td>-999397963.0</td>\n",
       "      <td>2019-08-21 03:24:18</td>\n",
       "      <td>216.0</td>\n",
       "      <td>122.0</td>\n",
       "      <td>314.4</td>\n",
       "    </tr>\n",
       "    <tr>\n",
       "      <th>3</th>\n",
       "      <td>504614830.0</td>\n",
       "      <td>-999398356.0</td>\n",
       "      <td>2019-08-21 03:24:19</td>\n",
       "      <td>231.0</td>\n",
       "      <td>122.0</td>\n",
       "      <td>319.2</td>\n",
       "    </tr>\n",
       "    <tr>\n",
       "      <th>4</th>\n",
       "      <td>504614846.0</td>\n",
       "      <td>-999398479.0</td>\n",
       "      <td>2019-08-21 03:24:20</td>\n",
       "      <td>231.0</td>\n",
       "      <td>121.0</td>\n",
       "      <td>312.2</td>\n",
       "    </tr>\n",
       "  </tbody>\n",
       "</table>\n",
       "</div>"
      ],
      "text/plain": [
       "   position_lat  position_long            timestamp  Power  heart_rate  \\\n",
       "0           NaN            NaN  2019-08-21 03:24:16  201.0       119.0   \n",
       "1   504612085.0   -999397826.0  2019-08-21 03:24:17  210.0       120.0   \n",
       "2   504614191.0   -999397963.0  2019-08-21 03:24:18  216.0       122.0   \n",
       "3   504614830.0   -999398356.0  2019-08-21 03:24:19  231.0       122.0   \n",
       "4   504614846.0   -999398479.0  2019-08-21 03:24:20  231.0       121.0   \n",
       "\n",
       "   enhanced_altitude  \n",
       "0              294.0  \n",
       "1              308.0  \n",
       "2              314.4  \n",
       "3              319.2  \n",
       "4              312.2  "
      ]
     },
     "execution_count": 21,
     "metadata": {},
     "output_type": "execute_result"
    }
   ],
   "source": [
    "# what does interpolate work on?\n",
    "import pandas as pd\n",
    "import numpy as np\n",
    "df=pd.read_csv(\"datasets/run.csv\")\n",
    "df.head()"
   ]
  },
  {
   "cell_type": "code",
   "execution_count": 22,
   "metadata": {
    "slideshow": {
     "slide_type": "slide"
    }
   },
   "outputs": [
    {
     "data": {
      "text/html": [
       "<div>\n",
       "<style scoped>\n",
       "    .dataframe tbody tr th:only-of-type {\n",
       "        vertical-align: middle;\n",
       "    }\n",
       "\n",
       "    .dataframe tbody tr th {\n",
       "        vertical-align: top;\n",
       "    }\n",
       "\n",
       "    .dataframe thead th {\n",
       "        text-align: right;\n",
       "    }\n",
       "</style>\n",
       "<table border=\"1\" class=\"dataframe\">\n",
       "  <thead>\n",
       "    <tr style=\"text-align: right;\">\n",
       "      <th></th>\n",
       "      <th>position_lat</th>\n",
       "      <th>position_long</th>\n",
       "      <th>timestamp</th>\n",
       "      <th>Power</th>\n",
       "      <th>heart_rate</th>\n",
       "      <th>enhanced_altitude</th>\n",
       "    </tr>\n",
       "    <tr>\n",
       "      <th>timestamp</th>\n",
       "      <th></th>\n",
       "      <th></th>\n",
       "      <th></th>\n",
       "      <th></th>\n",
       "      <th></th>\n",
       "      <th></th>\n",
       "    </tr>\n",
       "  </thead>\n",
       "  <tbody>\n",
       "    <tr>\n",
       "      <th>2019-08-21 03:24:16</th>\n",
       "      <td>NaN</td>\n",
       "      <td>NaN</td>\n",
       "      <td>2019-08-21 03:24:16</td>\n",
       "      <td>201.0</td>\n",
       "      <td>119.0</td>\n",
       "      <td>294.0</td>\n",
       "    </tr>\n",
       "    <tr>\n",
       "      <th>2019-08-21 03:24:17</th>\n",
       "      <td>504612085.0</td>\n",
       "      <td>-999397826.0</td>\n",
       "      <td>2019-08-21 03:24:17</td>\n",
       "      <td>210.0</td>\n",
       "      <td>120.0</td>\n",
       "      <td>308.0</td>\n",
       "    </tr>\n",
       "    <tr>\n",
       "      <th>2019-08-21 03:24:18</th>\n",
       "      <td>504614191.0</td>\n",
       "      <td>-999397963.0</td>\n",
       "      <td>2019-08-21 03:24:18</td>\n",
       "      <td>216.0</td>\n",
       "      <td>122.0</td>\n",
       "      <td>314.4</td>\n",
       "    </tr>\n",
       "    <tr>\n",
       "      <th>2019-08-21 03:24:19</th>\n",
       "      <td>504614830.0</td>\n",
       "      <td>-999398356.0</td>\n",
       "      <td>2019-08-21 03:24:19</td>\n",
       "      <td>231.0</td>\n",
       "      <td>122.0</td>\n",
       "      <td>319.2</td>\n",
       "    </tr>\n",
       "    <tr>\n",
       "      <th>2019-08-21 03:24:20</th>\n",
       "      <td>504614846.0</td>\n",
       "      <td>-999398479.0</td>\n",
       "      <td>2019-08-21 03:24:20</td>\n",
       "      <td>231.0</td>\n",
       "      <td>121.0</td>\n",
       "      <td>312.2</td>\n",
       "    </tr>\n",
       "    <tr>\n",
       "      <th>2019-08-21 03:24:21</th>\n",
       "      <td>504615114.0</td>\n",
       "      <td>-999398697.0</td>\n",
       "      <td>2019-08-21 03:24:21</td>\n",
       "      <td>234.0</td>\n",
       "      <td>120.0</td>\n",
       "      <td>309.6</td>\n",
       "    </tr>\n",
       "    <tr>\n",
       "      <th>2019-08-21 03:24:22</th>\n",
       "      <td>504615254.0</td>\n",
       "      <td>-999398935.0</td>\n",
       "      <td>2019-08-21 03:24:22</td>\n",
       "      <td>261.0</td>\n",
       "      <td>119.0</td>\n",
       "      <td>306.6</td>\n",
       "    </tr>\n",
       "    <tr>\n",
       "      <th>2019-08-21 03:24:23</th>\n",
       "      <td>504615283.0</td>\n",
       "      <td>-999399273.0</td>\n",
       "      <td>2019-08-21 03:24:23</td>\n",
       "      <td>283.0</td>\n",
       "      <td>119.0</td>\n",
       "      <td>304.0</td>\n",
       "    </tr>\n",
       "    <tr>\n",
       "      <th>2019-08-21 03:24:24</th>\n",
       "      <td>504615385.0</td>\n",
       "      <td>-999399615.0</td>\n",
       "      <td>2019-08-21 03:24:24</td>\n",
       "      <td>287.0</td>\n",
       "      <td>119.0</td>\n",
       "      <td>302.4</td>\n",
       "    </tr>\n",
       "    <tr>\n",
       "      <th>2019-08-21 03:24:25</th>\n",
       "      <td>504615427.0</td>\n",
       "      <td>-999399902.0</td>\n",
       "      <td>2019-08-21 03:24:25</td>\n",
       "      <td>290.0</td>\n",
       "      <td>120.0</td>\n",
       "      <td>303.8</td>\n",
       "    </tr>\n",
       "    <tr>\n",
       "      <th>2019-08-21 03:24:36</th>\n",
       "      <td>504615768.0</td>\n",
       "      <td>-999403755.0</td>\n",
       "      <td>2019-08-21 03:24:36</td>\n",
       "      <td>295.0</td>\n",
       "      <td>125.0</td>\n",
       "      <td>298.0</td>\n",
       "    </tr>\n",
       "    <tr>\n",
       "      <th>2019-08-21 03:24:37</th>\n",
       "      <td>504615752.0</td>\n",
       "      <td>-999404141.0</td>\n",
       "      <td>2019-08-21 03:24:37</td>\n",
       "      <td>296.0</td>\n",
       "      <td>125.0</td>\n",
       "      <td>297.2</td>\n",
       "    </tr>\n",
       "    <tr>\n",
       "      <th>2019-08-21 03:24:38</th>\n",
       "      <td>504615753.0</td>\n",
       "      <td>-999404467.0</td>\n",
       "      <td>2019-08-21 03:24:38</td>\n",
       "      <td>298.0</td>\n",
       "      <td>125.0</td>\n",
       "      <td>296.6</td>\n",
       "    </tr>\n",
       "    <tr>\n",
       "      <th>2019-08-21 03:24:39</th>\n",
       "      <td>504615783.0</td>\n",
       "      <td>-999404812.0</td>\n",
       "      <td>2019-08-21 03:24:39</td>\n",
       "      <td>299.0</td>\n",
       "      <td>126.0</td>\n",
       "      <td>296.2</td>\n",
       "    </tr>\n",
       "    <tr>\n",
       "      <th>2019-08-21 03:24:40</th>\n",
       "      <td>504615783.0</td>\n",
       "      <td>-999405171.0</td>\n",
       "      <td>2019-08-21 03:24:40</td>\n",
       "      <td>299.0</td>\n",
       "      <td>126.0</td>\n",
       "      <td>296.0</td>\n",
       "    </tr>\n",
       "    <tr>\n",
       "      <th>2019-08-21 03:24:41</th>\n",
       "      <td>504615772.0</td>\n",
       "      <td>-999405519.0</td>\n",
       "      <td>2019-08-21 03:24:41</td>\n",
       "      <td>301.0</td>\n",
       "      <td>126.0</td>\n",
       "      <td>295.6</td>\n",
       "    </tr>\n",
       "    <tr>\n",
       "      <th>2019-08-21 03:24:42</th>\n",
       "      <td>504615800.0</td>\n",
       "      <td>-999405791.0</td>\n",
       "      <td>2019-08-21 03:24:42</td>\n",
       "      <td>301.0</td>\n",
       "      <td>127.0</td>\n",
       "      <td>295.4</td>\n",
       "    </tr>\n",
       "    <tr>\n",
       "      <th>2019-08-21 03:24:43</th>\n",
       "      <td>504615852.0</td>\n",
       "      <td>-999406103.0</td>\n",
       "      <td>2019-08-21 03:24:43</td>\n",
       "      <td>300.0</td>\n",
       "      <td>127.0</td>\n",
       "      <td>295.4</td>\n",
       "    </tr>\n",
       "    <tr>\n",
       "      <th>2019-08-21 03:24:44</th>\n",
       "      <td>504615976.0</td>\n",
       "      <td>-999406398.0</td>\n",
       "      <td>2019-08-21 03:24:44</td>\n",
       "      <td>298.0</td>\n",
       "      <td>127.0</td>\n",
       "      <td>295.2</td>\n",
       "    </tr>\n",
       "    <tr>\n",
       "      <th>2019-08-21 03:24:45</th>\n",
       "      <td>504616122.0</td>\n",
       "      <td>-999406646.0</td>\n",
       "      <td>2019-08-21 03:24:45</td>\n",
       "      <td>296.0</td>\n",
       "      <td>127.0</td>\n",
       "      <td>295.0</td>\n",
       "    </tr>\n",
       "  </tbody>\n",
       "</table>\n",
       "</div>"
      ],
      "text/plain": [
       "                     position_lat  position_long            timestamp  Power  \\\n",
       "timestamp                                                                      \n",
       "2019-08-21 03:24:16           NaN            NaN  2019-08-21 03:24:16  201.0   \n",
       "2019-08-21 03:24:17   504612085.0   -999397826.0  2019-08-21 03:24:17  210.0   \n",
       "2019-08-21 03:24:18   504614191.0   -999397963.0  2019-08-21 03:24:18  216.0   \n",
       "2019-08-21 03:24:19   504614830.0   -999398356.0  2019-08-21 03:24:19  231.0   \n",
       "2019-08-21 03:24:20   504614846.0   -999398479.0  2019-08-21 03:24:20  231.0   \n",
       "2019-08-21 03:24:21   504615114.0   -999398697.0  2019-08-21 03:24:21  234.0   \n",
       "2019-08-21 03:24:22   504615254.0   -999398935.0  2019-08-21 03:24:22  261.0   \n",
       "2019-08-21 03:24:23   504615283.0   -999399273.0  2019-08-21 03:24:23  283.0   \n",
       "2019-08-21 03:24:24   504615385.0   -999399615.0  2019-08-21 03:24:24  287.0   \n",
       "2019-08-21 03:24:25   504615427.0   -999399902.0  2019-08-21 03:24:25  290.0   \n",
       "2019-08-21 03:24:36   504615768.0   -999403755.0  2019-08-21 03:24:36  295.0   \n",
       "2019-08-21 03:24:37   504615752.0   -999404141.0  2019-08-21 03:24:37  296.0   \n",
       "2019-08-21 03:24:38   504615753.0   -999404467.0  2019-08-21 03:24:38  298.0   \n",
       "2019-08-21 03:24:39   504615783.0   -999404812.0  2019-08-21 03:24:39  299.0   \n",
       "2019-08-21 03:24:40   504615783.0   -999405171.0  2019-08-21 03:24:40  299.0   \n",
       "2019-08-21 03:24:41   504615772.0   -999405519.0  2019-08-21 03:24:41  301.0   \n",
       "2019-08-21 03:24:42   504615800.0   -999405791.0  2019-08-21 03:24:42  301.0   \n",
       "2019-08-21 03:24:43   504615852.0   -999406103.0  2019-08-21 03:24:43  300.0   \n",
       "2019-08-21 03:24:44   504615976.0   -999406398.0  2019-08-21 03:24:44  298.0   \n",
       "2019-08-21 03:24:45   504616122.0   -999406646.0  2019-08-21 03:24:45  296.0   \n",
       "\n",
       "                     heart_rate  enhanced_altitude  \n",
       "timestamp                                           \n",
       "2019-08-21 03:24:16       119.0              294.0  \n",
       "2019-08-21 03:24:17       120.0              308.0  \n",
       "2019-08-21 03:24:18       122.0              314.4  \n",
       "2019-08-21 03:24:19       122.0              319.2  \n",
       "2019-08-21 03:24:20       121.0              312.2  \n",
       "2019-08-21 03:24:21       120.0              309.6  \n",
       "2019-08-21 03:24:22       119.0              306.6  \n",
       "2019-08-21 03:24:23       119.0              304.0  \n",
       "2019-08-21 03:24:24       119.0              302.4  \n",
       "2019-08-21 03:24:25       120.0              303.8  \n",
       "2019-08-21 03:24:36       125.0              298.0  \n",
       "2019-08-21 03:24:37       125.0              297.2  \n",
       "2019-08-21 03:24:38       125.0              296.6  \n",
       "2019-08-21 03:24:39       126.0              296.2  \n",
       "2019-08-21 03:24:40       126.0              296.0  \n",
       "2019-08-21 03:24:41       126.0              295.6  \n",
       "2019-08-21 03:24:42       127.0              295.4  \n",
       "2019-08-21 03:24:43       127.0              295.4  \n",
       "2019-08-21 03:24:44       127.0              295.2  \n",
       "2019-08-21 03:24:45       127.0              295.0  "
      ]
     },
     "execution_count": 22,
     "metadata": {},
     "output_type": "execute_result"
    }
   ],
   "source": [
    "df=df[0:10].append(df[20:100])\n",
    "df=df.set_index(pd.to_datetime(df[\"timestamp\"]))\n",
    "df.head(20)"
   ]
  },
  {
   "cell_type": "code",
   "execution_count": 23,
   "metadata": {
    "slideshow": {
     "slide_type": "slide"
    }
   },
   "outputs": [
    {
     "data": {
      "text/plain": [
       "<matplotlib.axes._subplots.AxesSubplot at 0x7fa8b3ab42e8>"
      ]
     },
     "execution_count": 23,
     "metadata": {},
     "output_type": "execute_result"
    },
    {
     "data": {
      "image/png": "[encoded data removed]",
      "text/plain": [
       "<Figure size 864x576 with 1 Axes>"
      ]
     },
     "metadata": {
      "needs_background": "light"
     },
     "output_type": "display_data"
    }
   ],
   "source": [
    "df[\"heart_rate\"].plot(style=\".\")"
   ]
  },
  {
   "cell_type": "code",
   "execution_count": 24,
   "metadata": {
    "slideshow": {
     "slide_type": "slide"
    }
   },
   "outputs": [
    {
     "data": {
      "text/html": [
       "<div>\n",
       "<style scoped>\n",
       "    .dataframe tbody tr th:only-of-type {\n",
       "        vertical-align: middle;\n",
       "    }\n",
       "\n",
       "    .dataframe tbody tr th {\n",
       "        vertical-align: top;\n",
       "    }\n",
       "\n",
       "    .dataframe thead th {\n",
       "        text-align: right;\n",
       "    }\n",
       "</style>\n",
       "<table border=\"1\" class=\"dataframe\">\n",
       "  <thead>\n",
       "    <tr style=\"text-align: right;\">\n",
       "      <th></th>\n",
       "      <th>position_lat</th>\n",
       "      <th>position_long</th>\n",
       "      <th>timestamp</th>\n",
       "      <th>Power</th>\n",
       "      <th>heart_rate</th>\n",
       "      <th>enhanced_altitude</th>\n",
       "    </tr>\n",
       "    <tr>\n",
       "      <th>timestamp</th>\n",
       "      <th></th>\n",
       "      <th></th>\n",
       "      <th></th>\n",
       "      <th></th>\n",
       "      <th></th>\n",
       "      <th></th>\n",
       "    </tr>\n",
       "  </thead>\n",
       "  <tbody>\n",
       "    <tr>\n",
       "      <th>2019-08-21 03:24:16</th>\n",
       "      <td>NaN</td>\n",
       "      <td>NaN</td>\n",
       "      <td>2019-08-21 03:24:16</td>\n",
       "      <td>201.000000</td>\n",
       "      <td>119.000000</td>\n",
       "      <td>294.000000</td>\n",
       "    </tr>\n",
       "    <tr>\n",
       "      <th>2019-08-21 03:24:17</th>\n",
       "      <td>504612085.0</td>\n",
       "      <td>-9.993978e+08</td>\n",
       "      <td>2019-08-21 03:24:17</td>\n",
       "      <td>210.000000</td>\n",
       "      <td>120.000000</td>\n",
       "      <td>308.000000</td>\n",
       "    </tr>\n",
       "    <tr>\n",
       "      <th>2019-08-21 03:24:18</th>\n",
       "      <td>504614191.0</td>\n",
       "      <td>-9.993980e+08</td>\n",
       "      <td>2019-08-21 03:24:18</td>\n",
       "      <td>216.000000</td>\n",
       "      <td>122.000000</td>\n",
       "      <td>314.400000</td>\n",
       "    </tr>\n",
       "    <tr>\n",
       "      <th>2019-08-21 03:24:19</th>\n",
       "      <td>504614830.0</td>\n",
       "      <td>-9.993984e+08</td>\n",
       "      <td>2019-08-21 03:24:19</td>\n",
       "      <td>231.000000</td>\n",
       "      <td>122.000000</td>\n",
       "      <td>319.200000</td>\n",
       "    </tr>\n",
       "    <tr>\n",
       "      <th>2019-08-21 03:24:20</th>\n",
       "      <td>504614846.0</td>\n",
       "      <td>-9.993985e+08</td>\n",
       "      <td>2019-08-21 03:24:20</td>\n",
       "      <td>231.000000</td>\n",
       "      <td>121.000000</td>\n",
       "      <td>312.200000</td>\n",
       "    </tr>\n",
       "    <tr>\n",
       "      <th>2019-08-21 03:24:21</th>\n",
       "      <td>504615114.0</td>\n",
       "      <td>-9.993987e+08</td>\n",
       "      <td>2019-08-21 03:24:21</td>\n",
       "      <td>234.000000</td>\n",
       "      <td>120.000000</td>\n",
       "      <td>309.600000</td>\n",
       "    </tr>\n",
       "    <tr>\n",
       "      <th>2019-08-21 03:24:22</th>\n",
       "      <td>504615254.0</td>\n",
       "      <td>-9.993989e+08</td>\n",
       "      <td>2019-08-21 03:24:22</td>\n",
       "      <td>261.000000</td>\n",
       "      <td>119.000000</td>\n",
       "      <td>306.600000</td>\n",
       "    </tr>\n",
       "    <tr>\n",
       "      <th>2019-08-21 03:24:23</th>\n",
       "      <td>504615283.0</td>\n",
       "      <td>-9.993993e+08</td>\n",
       "      <td>2019-08-21 03:24:23</td>\n",
       "      <td>283.000000</td>\n",
       "      <td>119.000000</td>\n",
       "      <td>304.000000</td>\n",
       "    </tr>\n",
       "    <tr>\n",
       "      <th>2019-08-21 03:24:24</th>\n",
       "      <td>504615385.0</td>\n",
       "      <td>-9.993996e+08</td>\n",
       "      <td>2019-08-21 03:24:24</td>\n",
       "      <td>287.000000</td>\n",
       "      <td>119.000000</td>\n",
       "      <td>302.400000</td>\n",
       "    </tr>\n",
       "    <tr>\n",
       "      <th>2019-08-21 03:24:25</th>\n",
       "      <td>504615427.0</td>\n",
       "      <td>-9.993999e+08</td>\n",
       "      <td>2019-08-21 03:24:25</td>\n",
       "      <td>290.000000</td>\n",
       "      <td>120.000000</td>\n",
       "      <td>303.800000</td>\n",
       "    </tr>\n",
       "    <tr>\n",
       "      <th>2019-08-21 03:24:26</th>\n",
       "      <td>504615458.0</td>\n",
       "      <td>-9.994003e+08</td>\n",
       "      <td>NaN</td>\n",
       "      <td>290.454545</td>\n",
       "      <td>120.454545</td>\n",
       "      <td>303.272727</td>\n",
       "    </tr>\n",
       "    <tr>\n",
       "      <th>2019-08-21 03:24:27</th>\n",
       "      <td>504615489.0</td>\n",
       "      <td>-9.994006e+08</td>\n",
       "      <td>NaN</td>\n",
       "      <td>290.909091</td>\n",
       "      <td>120.909091</td>\n",
       "      <td>302.745455</td>\n",
       "    </tr>\n",
       "    <tr>\n",
       "      <th>2019-08-21 03:24:28</th>\n",
       "      <td>504615520.0</td>\n",
       "      <td>-9.994010e+08</td>\n",
       "      <td>NaN</td>\n",
       "      <td>291.363636</td>\n",
       "      <td>121.363636</td>\n",
       "      <td>302.218182</td>\n",
       "    </tr>\n",
       "    <tr>\n",
       "      <th>2019-08-21 03:24:29</th>\n",
       "      <td>504615551.0</td>\n",
       "      <td>-9.994013e+08</td>\n",
       "      <td>NaN</td>\n",
       "      <td>291.818182</td>\n",
       "      <td>121.818182</td>\n",
       "      <td>301.690909</td>\n",
       "    </tr>\n",
       "    <tr>\n",
       "      <th>2019-08-21 03:24:30</th>\n",
       "      <td>504615582.0</td>\n",
       "      <td>-9.994017e+08</td>\n",
       "      <td>NaN</td>\n",
       "      <td>292.272727</td>\n",
       "      <td>122.272727</td>\n",
       "      <td>301.163636</td>\n",
       "    </tr>\n",
       "    <tr>\n",
       "      <th>2019-08-21 03:24:31</th>\n",
       "      <td>504615613.0</td>\n",
       "      <td>-9.994020e+08</td>\n",
       "      <td>NaN</td>\n",
       "      <td>292.727273</td>\n",
       "      <td>122.727273</td>\n",
       "      <td>300.636364</td>\n",
       "    </tr>\n",
       "    <tr>\n",
       "      <th>2019-08-21 03:24:32</th>\n",
       "      <td>504615644.0</td>\n",
       "      <td>-9.994024e+08</td>\n",
       "      <td>NaN</td>\n",
       "      <td>293.181818</td>\n",
       "      <td>123.181818</td>\n",
       "      <td>300.109091</td>\n",
       "    </tr>\n",
       "    <tr>\n",
       "      <th>2019-08-21 03:24:33</th>\n",
       "      <td>504615675.0</td>\n",
       "      <td>-9.994027e+08</td>\n",
       "      <td>NaN</td>\n",
       "      <td>293.636364</td>\n",
       "      <td>123.636364</td>\n",
       "      <td>299.581818</td>\n",
       "    </tr>\n",
       "    <tr>\n",
       "      <th>2019-08-21 03:24:34</th>\n",
       "      <td>504615706.0</td>\n",
       "      <td>-9.994031e+08</td>\n",
       "      <td>NaN</td>\n",
       "      <td>294.090909</td>\n",
       "      <td>124.090909</td>\n",
       "      <td>299.054545</td>\n",
       "    </tr>\n",
       "    <tr>\n",
       "      <th>2019-08-21 03:24:35</th>\n",
       "      <td>504615737.0</td>\n",
       "      <td>-9.994034e+08</td>\n",
       "      <td>NaN</td>\n",
       "      <td>294.545455</td>\n",
       "      <td>124.545455</td>\n",
       "      <td>298.527273</td>\n",
       "    </tr>\n",
       "  </tbody>\n",
       "</table>\n",
       "</div>"
      ],
      "text/plain": [
       "                     position_lat  position_long            timestamp  \\\n",
       "timestamp                                                               \n",
       "2019-08-21 03:24:16           NaN            NaN  2019-08-21 03:24:16   \n",
       "2019-08-21 03:24:17   504612085.0  -9.993978e+08  2019-08-21 03:24:17   \n",
       "2019-08-21 03:24:18   504614191.0  -9.993980e+08  2019-08-21 03:24:18   \n",
       "2019-08-21 03:24:19   504614830.0  -9.993984e+08  2019-08-21 03:24:19   \n",
       "2019-08-21 03:24:20   504614846.0  -9.993985e+08  2019-08-21 03:24:20   \n",
       "2019-08-21 03:24:21   504615114.0  -9.993987e+08  2019-08-21 03:24:21   \n",
       "2019-08-21 03:24:22   504615254.0  -9.993989e+08  2019-08-21 03:24:22   \n",
       "2019-08-21 03:24:23   504615283.0  -9.993993e+08  2019-08-21 03:24:23   \n",
       "2019-08-21 03:24:24   504615385.0  -9.993996e+08  2019-08-21 03:24:24   \n",
       "2019-08-21 03:24:25   504615427.0  -9.993999e+08  2019-08-21 03:24:25   \n",
       "2019-08-21 03:24:26   504615458.0  -9.994003e+08                  NaN   \n",
       "2019-08-21 03:24:27   504615489.0  -9.994006e+08                  NaN   \n",
       "2019-08-21 03:24:28   504615520.0  -9.994010e+08                  NaN   \n",
       "2019-08-21 03:24:29   504615551.0  -9.994013e+08                  NaN   \n",
       "2019-08-21 03:24:30   504615582.0  -9.994017e+08                  NaN   \n",
       "2019-08-21 03:24:31   504615613.0  -9.994020e+08                  NaN   \n",
       "2019-08-21 03:24:32   504615644.0  -9.994024e+08                  NaN   \n",
       "2019-08-21 03:24:33   504615675.0  -9.994027e+08                  NaN   \n",
       "2019-08-21 03:24:34   504615706.0  -9.994031e+08                  NaN   \n",
       "2019-08-21 03:24:35   504615737.0  -9.994034e+08                  NaN   \n",
       "\n",
       "                          Power  heart_rate  enhanced_altitude  \n",
       "timestamp                                                       \n",
       "2019-08-21 03:24:16  201.000000  119.000000         294.000000  \n",
       "2019-08-21 03:24:17  210.000000  120.000000         308.000000  \n",
       "2019-08-21 03:24:18  216.000000  122.000000         314.400000  \n",
       "2019-08-21 03:24:19  231.000000  122.000000         319.200000  \n",
       "2019-08-21 03:24:20  231.000000  121.000000         312.200000  \n",
       "2019-08-21 03:24:21  234.000000  120.000000         309.600000  \n",
       "2019-08-21 03:24:22  261.000000  119.000000         306.600000  \n",
       "2019-08-21 03:24:23  283.000000  119.000000         304.000000  \n",
       "2019-08-21 03:24:24  287.000000  119.000000         302.400000  \n",
       "2019-08-21 03:24:25  290.000000  120.000000         303.800000  \n",
       "2019-08-21 03:24:26  290.454545  120.454545         303.272727  \n",
       "2019-08-21 03:24:27  290.909091  120.909091         302.745455  \n",
       "2019-08-21 03:24:28  291.363636  121.363636         302.218182  \n",
       "2019-08-21 03:24:29  291.818182  121.818182         301.690909  \n",
       "2019-08-21 03:24:30  292.272727  122.272727         301.163636  \n",
       "2019-08-21 03:24:31  292.727273  122.727273         300.636364  \n",
       "2019-08-21 03:24:32  293.181818  123.181818         300.109091  \n",
       "2019-08-21 03:24:33  293.636364  123.636364         299.581818  \n",
       "2019-08-21 03:24:34  294.090909  124.090909         299.054545  \n",
       "2019-08-21 03:24:35  294.545455  124.545455         298.527273  "
      ]
     },
     "execution_count": 24,
     "metadata": {},
     "output_type": "execute_result"
    }
   ],
   "source": [
    "df.resample(\"1s\").interpolate(method=\"time\").head(20)"
   ]
  },
  {
   "cell_type": "code",
   "execution_count": 25,
   "metadata": {
    "slideshow": {
     "slide_type": "slide"
    }
   },
   "outputs": [
    {
     "data": {
      "text/plain": [
       "<matplotlib.axes._subplots.AxesSubplot at 0x7fa8b3a3b278>"
      ]
     },
     "execution_count": 25,
     "metadata": {},
     "output_type": "execute_result"
    },
    {
     "data": {
      "image/png": "[encoded data removed]",
      "text/plain": [
       "<Figure size 864x576 with 1 Axes>"
      ]
     },
     "metadata": {
      "needs_background": "light"
     },
     "output_type": "display_data"
    }
   ],
   "source": [
    "df.resample(\"1s\").interpolate(method=\"time\")[\"heart_rate\"].plot(style=\".\")"
   ]
  },
  {
   "cell_type": "code",
   "execution_count": 26,
   "metadata": {
    "slideshow": {
     "slide_type": "slide"
    }
   },
   "outputs": [
    {
     "data": {
      "text/plain": [
       "<matplotlib.axes._subplots.AxesSubplot at 0x7fa8b3928e80>"
      ]
     },
     "execution_count": 26,
     "metadata": {},
     "output_type": "execute_result"
    },
    {
     "data": {
      "image/png": "[encoded data removed]",
      "text/plain": [
       "<Figure size 864x576 with 1 Axes>"
      ]
     },
     "metadata": {
      "needs_background": "light"
     },
     "output_type": "display_data"
    },
    {
     "data": {
      "image/png": "[encoded data removed]",
      "text/plain": [
       "<Figure size 864x576 with 1 Axes>"
      ]
     },
     "metadata": {
      "needs_background": "light"
     },
     "output_type": "display_data"
    },
    {
     "data": {
      "image/png": "[encoded data removed]",
      "text/plain": [
       "<Figure size 864x576 with 1 Axes>"
      ]
     },
     "metadata": {
      "needs_background": "light"
     },
     "output_type": "display_data"
    }
   ],
   "source": [
    "import matplotlib.pyplot as plt\n",
    "df.resample(\"1s\").interpolate(method=\"time\")[\"heart_rate\"].plot(style=\"b.\")\n",
    "plt.figure()\n",
    "df.resample(\"1s\").fillna(method=\"ffill\")[\"heart_rate\"].plot(style=\"r.\")\n",
    "plt.figure()\n",
    "df.resample(\"1s\").fillna(method=\"nearest\")[\"heart_rate\"].plot(style=\"g.\")"
   ]
  }
 ],
 "metadata": {
  "celltoolbar": "Slideshow",
  "kernelspec": {
   "display_name": "Python 3",
   "language": "python",
   "name": "python3"
  },
  "language_info": {
   "codemirror_mode": {
    "name": "ipython",
    "version": 3
   },
   "file_extension": ".py",
   "mimetype": "text/x-python",
   "name": "python",
   "nbconvert_exporter": "python",
   "pygments_lexer": "ipython3",
   "version": "3.7.3"
  }
 },
 "nbformat": 4,
 "nbformat_minor": 4
}
