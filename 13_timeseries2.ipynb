{
 "cells": [
  {
   "cell_type": "markdown",
   "metadata": {
    "slideshow": {
     "slide_type": "slide"
    }
   },
   "source": [
    "## Moving Window Functions\n",
    "* sometimes we want to do manipulation on a chunk of a dataframe by time period, e.g. 5 mins, instead of using groups\n",
    "* we can do this by just indexing into the dataframe with a date range comparison\n",
    "* let's look at examples on the stock market with amazon\n"
   ]
  },
  {
   "cell_type": "code",
   "execution_count": null,
   "metadata": {
    "slideshow": {
     "slide_type": "slide"
    }
   },
   "outputs": [],
   "source": [
    "import pandas as pd\n",
    "df = pd.read_csv(\"datasets/AMZN.csv\")\n",
    "df.head()"
   ]
  },
  {
   "cell_type": "code",
   "execution_count": null,
   "metadata": {
    "slideshow": {
     "slide_type": "slide"
    }
   },
   "outputs": [],
   "source": [
    "# Let's look at the highs and lows\n",
    "amzn=df[[\"High\",\"Low\"]].set_index(pd.to_datetime(df[\"Date\"]))\n",
    "# just by this year\n",
    "amzn=amzn[amzn.index> '2020-01-01']\n",
    "import matplotlib.pyplot as plt\n",
    "amzn.plot()\n",
    "# notice we have two lines!"
   ]
  },
  {
   "cell_type": "markdown",
   "metadata": {
    "slideshow": {
     "slide_type": "slide"
    }
   },
   "source": [
    "* The `rolling()` operator lets us specify a window size and apply a function that works on that much data to every point in our time series\n",
    "* Close your eyes and imagine now one of those stock prices over time. How would we calculate the 7 day moving average?\n",
    "* First, what does the 7 day moving average even mean?\n"
   ]
  },
  {
   "cell_type": "markdown",
   "metadata": {
    "slideshow": {
     "slide_type": "subslide"
    }
   },
   "source": [
    "* Now, what's the algorithm you would use to calculate it?"
   ]
  },
  {
   "cell_type": "code",
   "execution_count": null,
   "metadata": {
    "slideshow": {
     "slide_type": "slide"
    }
   },
   "outputs": [],
   "source": [
    "import numpy as np\n",
    "for i in range(7,len(amzn)):\n",
    "    print(np.mean(amzn.iloc[i-7:i][\"High\"]))\n",
    "\n",
    "#a loop. ickers."
   ]
  },
  {
   "cell_type": "markdown",
   "metadata": {
    "slideshow": {
     "slide_type": "slide"
    }
   },
   "source": [
    "* In pandas, the `rolling` function allows us to do this with arbitrary window sizes and a function"
   ]
  },
  {
   "cell_type": "code",
   "execution_count": null,
   "metadata": {
    "slideshow": {
     "slide_type": "subslide"
    }
   },
   "outputs": [],
   "source": [
    "# Here, let's do a 7 day rolling on the dataframe\n",
    "# Note the output we get back\n",
    "amzn.rolling(7).apply(np.mean)"
   ]
  },
  {
   "cell_type": "code",
   "execution_count": null,
   "metadata": {
    "slideshow": {
     "slide_type": "slide"
    }
   },
   "outputs": [],
   "source": [
    "# there are the usual benefits (faster, less error prone, not icky) versus iteration\n",
    "# we can also control those nan's by specifying how much data we want to be present\n",
    "# before applying the function\n",
    "amzn.rolling(7,min_periods=1).apply(np.mean).plot()"
   ]
  },
  {
   "cell_type": "code",
   "execution_count": null,
   "metadata": {
    "slideshow": {
     "slide_type": "slide"
    }
   },
   "outputs": [],
   "source": [
    "# here's a 30 day moving average\n",
    "amzn.rolling(30,min_periods=1).apply(np.mean).plot()"
   ]
  },
  {
   "cell_type": "markdown",
   "metadata": {
    "slideshow": {
     "slide_type": "slide"
    }
   },
   "source": [
    "# Time Series and Gaps\n",
    "What do we do when we have missing data in a time series?"
   ]
  },
  {
   "cell_type": "code",
   "execution_count": null,
   "metadata": {
    "slideshow": {
     "slide_type": "slide"
    }
   },
   "outputs": [],
   "source": [
    "import pandas as pd\n",
    "# let's look at some data reported cases of measles in England and Wales\n",
    "df=pd.read_csv(\"datasets/ewcitmeas.txt\", delim_whitespace=True, dtype=float, na_values=\"*\")\n",
    "df.head()"
   ]
  },
  {
   "cell_type": "code",
   "execution_count": null,
   "metadata": {
    "slideshow": {
     "slide_type": "slide"
    }
   },
   "outputs": [],
   "source": [
    "# what a painful date time format! Welcome to my world!\n",
    "df.rename(columns={'DD': 'day', 'MM': 'month', 'YY': 'year'}, inplace=True)\n",
    "df['year'] = df['year'] + 1900\n",
    "df=df.set_index(pd.to_datetime(df[['year', 'month', 'day']])).drop([\"day\",\"month\",\"year\"], axis='columns')\n",
    "df.head()"
   ]
  },
  {
   "cell_type": "code",
   "execution_count": null,
   "metadata": {
    "slideshow": {
     "slide_type": "slide"
    }
   },
   "outputs": [],
   "source": [
    "%matplotlib inline\n",
    "# we can setup some features for matplotlib here\n",
    "#import matplotlib as mpl\n",
    "#mpl.rcParams['figure.figsize'] = 12, 8"
   ]
  },
  {
   "cell_type": "code",
   "execution_count": null,
   "metadata": {
    "slideshow": {
     "slide_type": "slide"
    }
   },
   "outputs": [],
   "source": [
    "# instead of the line plots we have been using, let's look at a scatter plot\n",
    "df[\"London\"].plot(style=\".\")"
   ]
  },
  {
   "cell_type": "markdown",
   "metadata": {
    "slideshow": {
     "slide_type": "slide"
    }
   },
   "source": [
    "* We notice several things here, first, the seasonality of the measels is shown. Second that the resultion of weekly makes sense sometimes, but at other times it seems like we could be helped with more frequent data collection"
   ]
  },
  {
   "cell_type": "code",
   "execution_count": null,
   "metadata": {
    "slideshow": {
     "slide_type": "slide"
    }
   },
   "outputs": [],
   "source": [
    "# I want to show you how to deal with holes in your data\n",
    "# I'm just going to pull out 500 obsertvations as an example into a new dataframe\n",
    "df2=df[\"London\"].sample(500)\n",
    "# Now, look at the randomness of dates/values in the dataframe itself\n",
    "display(df2.head())"
   ]
  },
  {
   "cell_type": "code",
   "execution_count": null,
   "metadata": {
    "slideshow": {
     "slide_type": "slide"
    }
   },
   "outputs": [],
   "source": [
    "# One way of filling holes is to resample and forward fill values\n",
    "df_ffill=df2.resample(\"D\").fillna(method=\"ffill\")\n",
    "df_ffill.head()"
   ]
  },
  {
   "cell_type": "code",
   "execution_count": null,
   "metadata": {
    "slideshow": {
     "slide_type": "slide"
    }
   },
   "outputs": [],
   "source": [
    "#let's compare these two\n",
    "df2.plot(style=\".\")\n",
    "plt.figure()\n",
    "df_ffill.plot(style=\".\")"
   ]
  },
  {
   "cell_type": "code",
   "execution_count": null,
   "metadata": {
    "slideshow": {
     "slide_type": "slide"
    }
   },
   "outputs": [],
   "source": [
    "# What if we applied a rolling window?\n",
    "import numpy as np\n",
    "df2.resample(\"D\").asfreq().rolling(10,min_periods=1).apply(np.nanmean).dropna().plot(style=\".\")"
   ]
  },
  {
   "cell_type": "markdown",
   "metadata": {
    "slideshow": {
     "slide_type": "slide"
    }
   },
   "source": [
    "* We have another great option in pandas, which is the `interpolate()` function.\n",
    "* interpolate fills na values in different ways depending upon the parameters you pass\n",
    "* it actually has some specific time series benefits but only for higher frequency data (day or better)"
   ]
  },
  {
   "cell_type": "code",
   "execution_count": null,
   "metadata": {
    "slideshow": {
     "slide_type": "slide"
    }
   },
   "outputs": [],
   "source": [
    "df2.resample(\"D\").interpolate(method=\"linear\").plot(style=\".\")"
   ]
  },
  {
   "cell_type": "code",
   "execution_count": null,
   "metadata": {
    "slideshow": {
     "slide_type": "slide"
    }
   },
   "outputs": [],
   "source": [
    "df2.resample(\"D\").interpolate(method=\"polynomial\", order=3).plot(style=\".\")"
   ]
  },
  {
   "cell_type": "code",
   "execution_count": null,
   "metadata": {
    "slideshow": {
     "slide_type": "slide"
    }
   },
   "outputs": [],
   "source": [
    "# what does interpolate work on?\n",
    "import pandas as pd\n",
    "import numpy as np\n",
    "df=pd.read_csv(\"datasets/run.csv\")\n",
    "df.head()"
   ]
  },
  {
   "cell_type": "code",
   "execution_count": null,
   "metadata": {
    "slideshow": {
     "slide_type": "slide"
    }
   },
   "outputs": [],
   "source": [
    "df=df[0:10].append(df[20:100])\n",
    "df=df.set_index(pd.to_datetime(df[\"timestamp\"]))\n",
    "df.head(20)"
   ]
  },
  {
   "cell_type": "code",
   "execution_count": null,
   "metadata": {
    "slideshow": {
     "slide_type": "slide"
    }
   },
   "outputs": [],
   "source": [
    "df[\"heart_rate\"].plot(style=\".\")"
   ]
  },
  {
   "cell_type": "code",
   "execution_count": null,
   "metadata": {
    "slideshow": {
     "slide_type": "slide"
    }
   },
   "outputs": [],
   "source": [
    "df.resample(\"1s\").interpolate(method=\"time\").head(20)"
   ]
  },
  {
   "cell_type": "code",
   "execution_count": null,
   "metadata": {
    "slideshow": {
     "slide_type": "slide"
    }
   },
   "outputs": [],
   "source": [
    "df.resample(\"1s\").interpolate(method=\"time\")[\"heart_rate\"].plot(style=\".\")"
   ]
  },
  {
   "cell_type": "code",
   "execution_count": null,
   "metadata": {
    "slideshow": {
     "slide_type": "slide"
    }
   },
   "outputs": [],
   "source": [
    "import matplotlib.pyplot as plt\n",
    "df.resample(\"1s\").interpolate(method=\"time\")[\"heart_rate\"].plot(style=\"b.\")\n",
    "plt.figure()\n",
    "df.resample(\"1s\").fillna(method=\"ffill\")[\"heart_rate\"].plot(style=\"r.\")\n",
    "plt.figure()\n",
    "df.resample(\"1s\").fillna(method=\"nearest\")[\"heart_rate\"].plot(style=\"g.\")"
   ]
  }
 ],
 "metadata": {
  "celltoolbar": "Slideshow",
  "kernelspec": {
   "display_name": "Python 3",
   "language": "python",
   "name": "python3"
  },
  "language_info": {
   "codemirror_mode": {
    "name": "ipython",
    "version": 3
   },
   "file_extension": ".py",
   "mimetype": "text/x-python",
   "name": "python",
   "nbconvert_exporter": "python",
   "pygments_lexer": "ipython3",
   "version": "3.7.3"
  }
 },
 "nbformat": 4,
 "nbformat_minor": 4
}
