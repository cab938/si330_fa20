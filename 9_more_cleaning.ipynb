{
 "cells": [
  {
   "cell_type": "markdown",
   "metadata": {},
   "source": [
    "# Real Data Cleaning\n",
    "* I need to learn about US presidents! Let's hit wikipedia..."
   ]
  },
  {
   "cell_type": "code",
   "execution_count": 1,
   "metadata": {},
   "outputs": [
    {
     "data": {
      "text/html": [
       "<div>\n",
       "<style scoped>\n",
       "    .dataframe tbody tr th:only-of-type {\n",
       "        vertical-align: middle;\n",
       "    }\n",
       "\n",
       "    .dataframe tbody tr th {\n",
       "        vertical-align: top;\n",
       "    }\n",
       "\n",
       "    .dataframe thead th {\n",
       "        text-align: right;\n",
       "    }\n",
       "</style>\n",
       "<table border=\"1\" class=\"dataframe\">\n",
       "  <thead>\n",
       "    <tr style=\"text-align: right;\">\n",
       "      <th></th>\n",
       "      <th>Presidency[a]</th>\n",
       "      <th>Presidency[a].1</th>\n",
       "      <th>President</th>\n",
       "      <th>President.1</th>\n",
       "      <th>Party[b]</th>\n",
       "      <th>Party[b].1</th>\n",
       "      <th>Election</th>\n",
       "      <th>Vice President</th>\n",
       "    </tr>\n",
       "  </thead>\n",
       "  <tbody>\n",
       "    <tr>\n",
       "      <th>0</th>\n",
       "      <td>1</td>\n",
       "      <td>April 30, 1789–March 4, 1797</td>\n",
       "      <td>NaN</td>\n",
       "      <td>George Washington</td>\n",
       "      <td>NaN</td>\n",
       "      <td>Unaffiliated</td>\n",
       "      <td>1788–89</td>\n",
       "      <td>John Adams[c]</td>\n",
       "    </tr>\n",
       "    <tr>\n",
       "      <th>1</th>\n",
       "      <td>1</td>\n",
       "      <td>April 30, 1789–March 4, 1797</td>\n",
       "      <td>NaN</td>\n",
       "      <td>George Washington</td>\n",
       "      <td>NaN</td>\n",
       "      <td>Unaffiliated</td>\n",
       "      <td>1792</td>\n",
       "      <td>John Adams[c]</td>\n",
       "    </tr>\n",
       "    <tr>\n",
       "      <th>2</th>\n",
       "      <td>2</td>\n",
       "      <td>March 4, 1797–March 4, 1801</td>\n",
       "      <td>NaN</td>\n",
       "      <td>John Adams</td>\n",
       "      <td>NaN</td>\n",
       "      <td>Federalist</td>\n",
       "      <td>1796</td>\n",
       "      <td>Thomas Jefferson[d]</td>\n",
       "    </tr>\n",
       "    <tr>\n",
       "      <th>3</th>\n",
       "      <td>3</td>\n",
       "      <td>March 4, 1801–March 4, 1809</td>\n",
       "      <td>NaN</td>\n",
       "      <td>Thomas Jefferson</td>\n",
       "      <td>NaN</td>\n",
       "      <td>Democratic-Republican</td>\n",
       "      <td>1800</td>\n",
       "      <td>Aaron Burr</td>\n",
       "    </tr>\n",
       "    <tr>\n",
       "      <th>4</th>\n",
       "      <td>3</td>\n",
       "      <td>March 4, 1801–March 4, 1809</td>\n",
       "      <td>NaN</td>\n",
       "      <td>Thomas Jefferson</td>\n",
       "      <td>NaN</td>\n",
       "      <td>Democratic-Republican</td>\n",
       "      <td>1804</td>\n",
       "      <td>George Clinton[e]</td>\n",
       "    </tr>\n",
       "  </tbody>\n",
       "</table>\n",
       "</div>"
      ],
      "text/plain": [
       "  Presidency[a]               Presidency[a].1 President        President.1  \\\n",
       "0             1  April 30, 1789–March 4, 1797       NaN  George Washington   \n",
       "1             1  April 30, 1789–March 4, 1797       NaN  George Washington   \n",
       "2             2   March 4, 1797–March 4, 1801       NaN         John Adams   \n",
       "3             3   March 4, 1801–March 4, 1809       NaN   Thomas Jefferson   \n",
       "4             3   March 4, 1801–March 4, 1809       NaN   Thomas Jefferson   \n",
       "\n",
       "  Party[b]             Party[b].1 Election       Vice President  \n",
       "0      NaN           Unaffiliated  1788–89        John Adams[c]  \n",
       "1      NaN           Unaffiliated     1792        John Adams[c]  \n",
       "2      NaN             Federalist     1796  Thomas Jefferson[d]  \n",
       "3      NaN  Democratic-Republican     1800           Aaron Burr  \n",
       "4      NaN  Democratic-Republican     1804    George Clinton[e]  "
      ]
     },
     "execution_count": 1,
     "metadata": {},
     "output_type": "execute_result"
    }
   ],
   "source": [
    "import pandas as pd\n",
    "df=pd.read_html(\"https://en.wikipedia.org/wiki/List_of_presidents_of_the_United_States\")[1]\n",
    "df.head()"
   ]
  },
  {
   "cell_type": "markdown",
   "metadata": {},
   "source": [
    "* Let's try and build a dataframe that has the president number, start and end date of term, name and birth/death years. I think there are likely questions like this on the citizenship test."
   ]
  }
 ],
 "metadata": {
  "kernelspec": {
   "display_name": "Python 3",
   "language": "python",
   "name": "python3"
  },
  "language_info": {
   "codemirror_mode": {
    "name": "ipython",
    "version": 3
   },
   "file_extension": ".py",
   "mimetype": "text/x-python",
   "name": "python",
   "nbconvert_exporter": "python",
   "pygments_lexer": "ipython3",
   "version": "3.7.3"
  }
 },
 "nbformat": 4,
 "nbformat_minor": 4
}
