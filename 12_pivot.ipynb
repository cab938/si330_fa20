{
 "cells": [
  {
   "cell_type": "markdown",
   "metadata": {
    "slideshow": {
     "slide_type": "slide"
    }
   },
   "source": [
    "# Pivot tables\n",
    "* A pivot table is itself a DataFrame, which compares two groups on some shared columns, thus:\n",
    "  1. the rows represent one variable that you're interested in\n",
    "  2. the columns another variables, and \n",
    "  3. the cell content is some *aggregate* value of a third column \n",
    "* Often a pivot table includes marginal values as well, which are comparisons across multiple groups (more in a minute)"
   ]
  },
  {
   "cell_type": "code",
   "execution_count": null,
   "metadata": {
    "slideshow": {
     "slide_type": "slide"
    }
   },
   "outputs": [],
   "source": [
    "# Here we have the Times Higher Education World University Ranking dataset\n",
    "import pandas as pd\n",
    "import numpy as np\n",
    "df = pd.read_csv('datasets/cwurData.csv')\n",
    "df.head()"
   ]
  },
  {
   "cell_type": "code",
   "execution_count": null,
   "metadata": {
    "slideshow": {
     "slide_type": "slide"
    }
   },
   "outputs": [],
   "source": [
    "# Let's say we want to create a new column called *Rank_Level*, where institutions with world ranking 1-100 are\n",
    "# categorized as *first tier* and those with world ranking 101 - 200 are *second tier*, ranking 201 - 300 are\n",
    "# *third tier*, after 301 is *other* top universities.\n",
    "\n",
    "# You do that now, please."
   ]
  },
  {
   "cell_type": "code",
   "execution_count": null,
   "metadata": {
    "slideshow": {
     "slide_type": "slide"
    }
   },
   "outputs": [],
   "source": [
    "#Put interesting student solution here.\n",
    "def set_rank(row):\n",
    "    if row[\"world_rank\"] <= 100:\n",
    "        row[\"Rank_Level\"]=\"first tier\"\n",
    "    elif row[\"world_rank\"] <= 200:\n",
    "        row[\"Rank_Level\"]=\"second tier\"\n",
    "    elif row[\"world_rank\"] <= 300:\n",
    "        row[\"Rank_Level\"]=\"third tier\"\n",
    "    else:\n",
    "        row[\"Rank_Level\"]=\"other top universities\"\n",
    "    return row\n",
    "\n",
    "df=df.apply(set_rank, axis=1)\n",
    "df.head()\n"
   ]
  },
  {
   "cell_type": "markdown",
   "metadata": {
    "slideshow": {
     "slide_type": "slide"
    }
   },
   "source": [
    "* Let's pivot! We need two columns, let's say the *country* and our *rank level* these will become our new rows (index)/columns (labels)\n",
    "* Now we need one column of interest for the cell value, let's use the *score*\n",
    "* Then we need on aggregation function, which we'll apply to *score* let's use `np.mean`"
   ]
  },
  {
   "cell_type": "markdown",
   "metadata": {
    "slideshow": {
     "slide_type": "subslide"
    }
   },
   "source": [
    "* essentially this means we're comparing two groups, \"Countries\" vs. \"Rank Level\" with respect to score using an average. Think for a moment how you might tackle this with group by"
   ]
  },
  {
   "cell_type": "code",
   "execution_count": null,
   "metadata": {
    "slideshow": {
     "slide_type": "slide"
    }
   },
   "outputs": [],
   "source": [
    "df.pivot_table(values='score', index='country', columns='Rank_Level', aggfunc=[np.mean]).head()"
   ]
  },
  {
   "cell_type": "markdown",
   "metadata": {
    "slideshow": {
     "slide_type": "slide"
    }
   },
   "source": [
    "* we notice that there are some NaN values, e.g. Argentia has only observations in the \"Other Top Unversities\" category"
   ]
  },
  {
   "cell_type": "markdown",
   "metadata": {
    "slideshow": {
     "slide_type": "subslide"
    }
   },
   "source": [
    "* pivot tables aren't limited to one aggregation! We could use multiple functions and see those results with heirarchical column labels"
   ]
  },
  {
   "cell_type": "code",
   "execution_count": null,
   "metadata": {
    "slideshow": {
     "slide_type": "slide"
    }
   },
   "outputs": [],
   "source": [
    "df.pivot_table(values='score', index='country', columns='Rank_Level', aggfunc=[np.mean, np.max]).head()"
   ]
  },
  {
   "cell_type": "code",
   "execution_count": null,
   "metadata": {
    "slideshow": {
     "slide_type": "slide"
    }
   },
   "outputs": [],
   "source": [
    "# we can also provide those marginal values\n",
    "df.pivot_table(values='score', index='country', columns='Rank_Level', aggfunc=[np.mean, np.max], \n",
    "               margins=True).head()"
   ]
  },
  {
   "cell_type": "code",
   "execution_count": null,
   "metadata": {
    "slideshow": {
     "slide_type": "slide"
    }
   },
   "outputs": [],
   "source": [
    "# A pivot table is just a multi-level dataframe\n",
    "new_df=df.pivot_table(values='score', index='country', columns='Rank_Level', aggfunc=[np.mean, np.max], \n",
    "               margins=True)\n",
    "# Now let's look at the index\n",
    "print(new_df.index)\n",
    "# And let's look at the columns\n",
    "print(new_df.columns)"
   ]
  },
  {
   "cell_type": "code",
   "execution_count": null,
   "metadata": {
    "slideshow": {
     "slide_type": "slide"
    }
   },
   "outputs": [],
   "source": [
    "# How would we query this if we want to get the average scores of First Tier universities broken down by country?\n",
    "# You do that now, please."
   ]
  },
  {
   "cell_type": "markdown",
   "metadata": {
    "slideshow": {
     "slide_type": "slide"
    }
   },
   "source": [
    "* Let's get weird. We can `stack` and `unstack` columns in our dataframe.\n",
    "* `stack` takes pivots the lowermost column index to become the innermost row index. unstack is the inverse\n",
    "* let's look back at that pivot table..."
   ]
  },
  {
   "cell_type": "code",
   "execution_count": null,
   "metadata": {
    "slideshow": {
     "slide_type": "subslide"
    }
   },
   "outputs": [],
   "source": [
    "new_df.head() #we want to take the tier of uni and move it to a row index, so we are stacking...."
   ]
  },
  {
   "cell_type": "code",
   "execution_count": null,
   "metadata": {
    "slideshow": {
     "slide_type": "slide"
    }
   },
   "outputs": [],
   "source": [
    "new_df.stack().head()"
   ]
  },
  {
   "cell_type": "code",
   "execution_count": null,
   "metadata": {
    "slideshow": {
     "slide_type": "slide"
    }
   },
   "outputs": [],
   "source": [
    "# It can get complex! You are just comparing two groups and a value (or multiple values in this case!)\n",
    "# we can unstack() all the way if we want to, which means move a row index into a column index\n",
    "new_df.head() #let's pivot rank_level now into the column, what shape do you think this will create?"
   ]
  },
  {
   "cell_type": "code",
   "execution_count": null,
   "metadata": {
    "slideshow": {
     "slide_type": "slide"
    }
   },
   "outputs": [],
   "source": [
    "new_df.unstack().head(10)"
   ]
  },
  {
   "cell_type": "markdown",
   "metadata": {
    "slideshow": {
     "slide_type": "slide"
    }
   },
   "source": [
    "* Remember, you can pass any function you want to the aggregate function, including those that you define yourself!"
   ]
  }
 ],
 "metadata": {
  "celltoolbar": "Slideshow",
  "kernelspec": {
   "display_name": "Python 3",
   "language": "python",
   "name": "python3"
  },
  "language_info": {
   "codemirror_mode": {
    "name": "ipython",
    "version": 3
   },
   "file_extension": ".py",
   "mimetype": "text/x-python",
   "name": "python",
   "nbconvert_exporter": "python",
   "pygments_lexer": "ipython3",
   "version": "3.7.3"
  }
 },
 "nbformat": 4,
 "nbformat_minor": 2
}
