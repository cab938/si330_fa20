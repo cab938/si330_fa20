{
 "cells": [
  {
   "cell_type": "markdown",
   "metadata": {
    "slideshow": {
     "slide_type": "slide"
    }
   },
   "source": [
    "# Time Series Data\n",
    "* We've already seen pandas can handle date/time formats\n",
    "* Time series data adds new manipulation options to our data, and pandas was actually developed with time series data in mind."
   ]
  },
  {
   "cell_type": "markdown",
   "metadata": {
    "slideshow": {
     "slide_type": "slide"
    }
   },
   "source": [
    "## Resampling \n",
    "* the process of converting a time series from one frequency to another.\n",
    "  * downsampling: going from a high frequency (e.g. daily) to a lower frequency (e.g. weekly)\n",
    "  * upsampling: going from a lower frequency to higher frequency\n",
    "  * remapping: aligning data to a set frequency (e.g. mapping weekly data to sundays)"
   ]
  },
  {
   "cell_type": "code",
   "execution_count": null,
   "metadata": {
    "slideshow": {
     "slide_type": "slide"
    }
   },
   "outputs": [],
   "source": [
    "import pandas as pd\n",
    "import numpy as np\n",
    "import matplotlib.pyplot as plt\n",
    "\n",
    "# We can create date ranges with\n",
    "pd.date_range?"
   ]
  },
  {
   "cell_type": "code",
   "execution_count": 7,
   "metadata": {
    "slideshow": {
     "slide_type": "subslide"
    }
   },
   "outputs": [
    {
     "data": {
      "text/plain": [
       "2018-01-01    0.0\n",
       "2018-01-02    0.0\n",
       "2018-01-03    0.0\n",
       "2018-01-04    0.0\n",
       "2018-01-05    0.0\n",
       "Freq: D, dtype: float64"
      ]
     },
     "execution_count": 7,
     "metadata": {},
     "output_type": "execute_result"
    }
   ],
   "source": [
    "# Some sample data\n",
    "import pandas as pd\n",
    "import numpy as np\n",
    "dates = pd.date_range(start='1/1/2018', end='05/31/2018')\n",
    "ts=pd.Series(np.zeros(len(dates)), index=dates)\n",
    "ts.head()\n",
    "#ts = pd.Series(np.random.randn(len(dates)), index=dates)\n",
    "#ts.head()"
   ]
  },
  {
   "cell_type": "code",
   "execution_count": null,
   "metadata": {
    "slideshow": {
     "slide_type": "slide"
    }
   },
   "outputs": [],
   "source": [
    "# You need a date or time index on your dataframe to do some resampling\n",
    "# When we resample we need to determine the new frequency we want and how we want \n",
    "# to resample\n",
    "# Let's change our daily data down to weekly data\n",
    "resampler=ts.resample('W')\n",
    "resampler"
   ]
  },
  {
   "cell_type": "code",
   "execution_count": null,
   "metadata": {
    "slideshow": {
     "slide_type": "subslide"
    }
   },
   "outputs": [],
   "source": [
    "# Just like groupby, this is an object which will do the resampling for us\n",
    "# Since we are downsampling (D->W) we need to decide how to aggregate our datapoints\n",
    "# We are now very used to this!\n",
    "resampler.apply(np.mean).head()"
   ]
  },
  {
   "cell_type": "markdown",
   "metadata": {
    "slideshow": {
     "slide_type": "slide"
    }
   },
   "source": [
    "* Notice the frequency is now W-SUN (weekly beginning on sunday)\n",
    "* When we downsample we are \"binning\" our values and need to determine which end of the bin is open/closed\n",
    "* By default the right side is **closed** for weekly binning, which we did here\n",
    "  * Closed vs. open can be confusing! For example, is an observation at midnight on October 13, 2020 a Tuesday observation, or a Monday observation?\n",
    "  * If you have defined thing as left closed, then it's Monday. If you defined them as right closed, then it's Tuesday."
   ]
  },
  {
   "cell_type": "markdown",
   "metadata": {
    "slideshow": {
     "slide_type": "slide"
    }
   },
   "source": [
    "# Here's an example\n",
    "* if you have a bunch of time sampled data in seconds and you are downsampling to minutes then:\n",
    "  * if you are **left closed** you are saying \"downsample to minutes where all of the values are **<** the next minute whole number\"\n",
    "  * if you are **right closed** you are saying \"downsample to minutes where all of the values are **<=** the next minute whole number\"\n",
    "* clear as a No.3 Dark Maple Syrup, eh?"
   ]
  },
  {
   "cell_type": "code",
   "execution_count": null,
   "metadata": {
    "slideshow": {
     "slide_type": "slide"
    }
   },
   "outputs": [],
   "source": [
    "# Let's look at 9 seconds which cross the minute boundry\n",
    "index = pd.date_range('10/13/2020 12:59:55', periods=9, freq='S')\n",
    "series = pd.Series(range(9), index=index)\n",
    "series"
   ]
  },
  {
   "cell_type": "code",
   "execution_count": null,
   "metadata": {
    "slideshow": {
     "slide_type": "slide"
    }
   },
   "outputs": [],
   "source": [
    "# if we resample this to 1 minute intervals closed on the left \n",
    "# then the first five seconds will be binned to the left value (<)\n",
    "series.resample('1T',closed=\"left\").apply(np.max)"
   ]
  },
  {
   "cell_type": "code",
   "execution_count": null,
   "metadata": {
    "slideshow": {
     "slide_type": "slide"
    }
   },
   "outputs": [],
   "source": [
    "# if we resample this to 1 minute intervals closed on the right \n",
    "# then the first six seconds will be binned to the left value (<=)\n",
    "series.resample('1T',closed=\"right\").apply(np.max)"
   ]
  },
  {
   "cell_type": "markdown",
   "metadata": {
    "slideshow": {
     "slide_type": "slide"
    }
   },
   "source": [
    "<a href=\"https://stackoverflow.com/questions/48340463/how-to-understand-closed-and-label-arguments-in-pandas-resample-method\">https://stackoverflow.com/questions/48340463/how-to-understand-closed-and-label-arguments-in-pandas-resample-method</a>\n",
    "<img src=\"https://i.stack.imgur.com/nX6yv.png\"></img>"
   ]
  },
  {
   "cell_type": "code",
   "execution_count": null,
   "metadata": {
    "slideshow": {
     "slide_type": "slide"
    }
   },
   "outputs": [],
   "source": [
    "# another example, with 12 periods in minute chunks\n",
    "ts = pd.Series(np.arange(12), index=pd.date_range(start='1/1/2018', periods=12,freq='T'))\n",
    "ts"
   ]
  },
  {
   "cell_type": "code",
   "execution_count": null,
   "metadata": {
    "slideshow": {
     "slide_type": "subslide"
    }
   },
   "outputs": [],
   "source": [
    "# what do you think will happen if we resample to the nearest whole 5 minute mark but \n",
    "# close left?\n",
    "# look at the data, write down in your mind\n",
    "ts.resample(\"5min\", closed='left').apply(np.sum)"
   ]
  },
  {
   "cell_type": "code",
   "execution_count": null,
   "metadata": {
    "slideshow": {
     "slide_type": "slide"
    }
   },
   "outputs": [],
   "source": [
    "# what do you think will happen if we resample to the nearest whole 5 minute mark but close right?\n",
    "# look at the data, write down in your mind\n",
    "ts.resample(\"5min\", closed='right').apply(np.sum)"
   ]
  },
  {
   "cell_type": "code",
   "execution_count": null,
   "metadata": {
    "slideshow": {
     "slide_type": "subslide"
    }
   },
   "outputs": [],
   "source": [
    "# Also, downresampling really is an aggregation exercise, so you can do all \n",
    "# sorts of things\n",
    "# What do you think this does in real language?\n",
    "ts.resample('2min').apply(\n",
    "    lambda x: pd.Series({\"mean\":np.mean(x),\"max\":np.max(x)})).unstack()"
   ]
  },
  {
   "cell_type": "code",
   "execution_count": null,
   "metadata": {
    "slideshow": {
     "slide_type": "slide"
    }
   },
   "outputs": [],
   "source": [
    "# Inline activity!\n",
    "df=pd.read_csv('datasets/si330_dstat.csv',skiprows=5)\n",
    "df.head()\n",
    "# How do we generate a dataframe which shows the 30 second averages and the \n",
    "# standard deviations of the idl (CPU idle) time?\n",
    "\n",
    "df=df[[\"epoch\",\"idl\"]]\n",
    "\n",
    "# convert our epoch time into a date time stamp\n",
    "df=df.set_index(pd.DatetimeIndex(pd.to_datetime(df[\"epoch\"],unit='s')))\n",
    "#delete the old epoch column\n",
    "del df[\"epoch\"]\n",
    "#df\n",
    "\n",
    "# let's spot check the mean value\n",
    "df.resample(\"30S\").apply(np.mean)\n",
    "\n",
    "def calculate(frame):\n",
    "    print(type(frame))\n",
    "    #retval=pd.Series({\"average\":np.average(frame), \n",
    "                      #\"std\":np.std(frame)[0], \n",
    "                      #\"number of observations\":len(frame)})\n",
    "    return 1#retval\n",
    "df.resample(\"30S\").apply(calculate)"
   ]
  },
  {
   "cell_type": "code",
   "execution_count": null,
   "metadata": {
    "slideshow": {
     "slide_type": "slide"
    }
   },
   "outputs": [],
   "source": [
    "# With upsampling there is no need to aggregate. \n",
    "\n",
    "# let's create a dataframe, with two weekly indices, and four columns. First the \n",
    "# indicies\n",
    "dates = pd.date_range(start='1/1/2018', periods=2, freq='W')\n",
    "# now let's fill in the DataFrame\n",
    "df = pd.DataFrame(np.random.randn(2,4), index=dates, \n",
    "                  columns=['col1','col2','col3','col4'])\n",
    "df.head()"
   ]
  },
  {
   "cell_type": "code",
   "execution_count": null,
   "metadata": {
    "slideshow": {
     "slide_type": "subslide"
    }
   },
   "outputs": [],
   "source": [
    "# Now we upsample from weekly frequency to daily frequency,\n",
    "df_daily = df.resample('D').asfreq()\n",
    "df_daily.head()"
   ]
  },
  {
   "cell_type": "code",
   "execution_count": null,
   "metadata": {
    "slideshow": {
     "slide_type": "slide"
    }
   },
   "outputs": [],
   "source": [
    "# As you notice, there will be NaN values, let's engage in interpolation\n",
    "# Foprward fill or backward fill\n",
    "df.resample('D').ffill()"
   ]
  },
  {
   "cell_type": "code",
   "execution_count": null,
   "metadata": {
    "slideshow": {
     "slide_type": "slide"
    }
   },
   "outputs": [],
   "source": [
    "# We can also choose to only fill a certain number of periods, by using the limit \n",
    "# parameter in the ffill() function. For instance, here, we are limiting to \n",
    "# interpolating three observations\n",
    "df.resample('D').bfill(limit=3)"
   ]
  },
  {
   "cell_type": "markdown",
   "metadata": {
    "slideshow": {
     "slide_type": "slide"
    }
   },
   "source": [
    "# Working with time series data\n",
    "* we've now seen downsampling and upsampling, and have a better sense of how date ranges are handled in pandas\n",
    "* lets go back to a favorite dataset of ours which has lots of interesting time series data in it and try and explore a bit"
   ]
  },
  {
   "cell_type": "code",
   "execution_count": 9,
   "metadata": {
    "slideshow": {
     "slide_type": "slide"
    }
   },
   "outputs": [
    {
     "name": "stdout",
     "output_type": "stream",
     "text": [
      "Index(['Ticket #', 'Badge', 'Issue Date ', 'IssueTime', 'Plate', 'State',\n",
      "       'Make', 'Model', 'Violation', ' Description', 'Location', 'Meter',\n",
      "       ' Fine ', 'Penalty'],\n",
      "      dtype='object')\n"
     ]
    },
    {
     "data": {
      "text/html": [
       "<div>\n",
       "<style scoped>\n",
       "    .dataframe tbody tr th:only-of-type {\n",
       "        vertical-align: middle;\n",
       "    }\n",
       "\n",
       "    .dataframe tbody tr th {\n",
       "        vertical-align: top;\n",
       "    }\n",
       "\n",
       "    .dataframe thead th {\n",
       "        text-align: right;\n",
       "    }\n",
       "</style>\n",
       "<table border=\"1\" class=\"dataframe\">\n",
       "  <thead>\n",
       "    <tr style=\"text-align: right;\">\n",
       "      <th></th>\n",
       "      <th>Ticket #</th>\n",
       "      <th>Badge</th>\n",
       "      <th>Issue Date</th>\n",
       "      <th>IssueTime</th>\n",
       "      <th>Plate</th>\n",
       "      <th>State</th>\n",
       "      <th>Make</th>\n",
       "      <th>Model</th>\n",
       "      <th>Violation</th>\n",
       "      <th>Description</th>\n",
       "      <th>Location</th>\n",
       "      <th>Meter</th>\n",
       "      <th>Fine</th>\n",
       "      <th>Penalty</th>\n",
       "    </tr>\n",
       "  </thead>\n",
       "  <tbody>\n",
       "    <tr>\n",
       "      <th>0</th>\n",
       "      <td>2060009973</td>\n",
       "      <td>827</td>\n",
       "      <td>2016-01-02</td>\n",
       "      <td>1111</td>\n",
       "      <td>A27VT</td>\n",
       "      <td>MI</td>\n",
       "      <td>SATU</td>\n",
       "      <td>NaN</td>\n",
       "      <td>A01</td>\n",
       "      <td>EXPIRED METER</td>\n",
       "      <td>LOT 11</td>\n",
       "      <td>5A</td>\n",
       "      <td>20</td>\n",
       "      <td>0</td>\n",
       "    </tr>\n",
       "    <tr>\n",
       "      <th>1</th>\n",
       "      <td>2060009996</td>\n",
       "      <td>827</td>\n",
       "      <td>2016-01-02</td>\n",
       "      <td>1304</td>\n",
       "      <td>DCZ5024</td>\n",
       "      <td>MI</td>\n",
       "      <td>HOND</td>\n",
       "      <td>NaN</td>\n",
       "      <td>A04</td>\n",
       "      <td>NO PRKNG ANYTME</td>\n",
       "      <td>200 BLK OF STATE SOU</td>\n",
       "      <td>NaN</td>\n",
       "      <td>25</td>\n",
       "      <td>0</td>\n",
       "    </tr>\n",
       "    <tr>\n",
       "      <th>2</th>\n",
       "      <td>2060009995</td>\n",
       "      <td>827</td>\n",
       "      <td>2016-01-02</td>\n",
       "      <td>1302</td>\n",
       "      <td>BEJ2048</td>\n",
       "      <td>MI</td>\n",
       "      <td>FORD</td>\n",
       "      <td>NaN</td>\n",
       "      <td>A01</td>\n",
       "      <td>EXPIRED METER</td>\n",
       "      <td>900 BLK OF WASHINGTO</td>\n",
       "      <td>5066B</td>\n",
       "      <td>20</td>\n",
       "      <td>0</td>\n",
       "    </tr>\n",
       "    <tr>\n",
       "      <th>3</th>\n",
       "      <td>2060009994</td>\n",
       "      <td>827</td>\n",
       "      <td>2016-01-02</td>\n",
       "      <td>1257</td>\n",
       "      <td>DKQ9157</td>\n",
       "      <td>MI</td>\n",
       "      <td>FORD</td>\n",
       "      <td>NaN</td>\n",
       "      <td>A01</td>\n",
       "      <td>EXPIRED METER</td>\n",
       "      <td>300 BLK OF THAYER SO</td>\n",
       "      <td>5088</td>\n",
       "      <td>10</td>\n",
       "      <td>0</td>\n",
       "    </tr>\n",
       "    <tr>\n",
       "      <th>4</th>\n",
       "      <td>2060009993</td>\n",
       "      <td>827</td>\n",
       "      <td>2016-01-02</td>\n",
       "      <td>1254</td>\n",
       "      <td>GJR3356</td>\n",
       "      <td>OH</td>\n",
       "      <td>CHEV</td>\n",
       "      <td>NaN</td>\n",
       "      <td>A01</td>\n",
       "      <td>EXPIRED METER</td>\n",
       "      <td>700 BLK OF WASHINGTO</td>\n",
       "      <td>5046</td>\n",
       "      <td>20</td>\n",
       "      <td>50</td>\n",
       "    </tr>\n",
       "    <tr>\n",
       "      <th>5</th>\n",
       "      <td>2060009992</td>\n",
       "      <td>827</td>\n",
       "      <td>2016-01-02</td>\n",
       "      <td>1250</td>\n",
       "      <td>DEW0285</td>\n",
       "      <td>MI</td>\n",
       "      <td>DODG</td>\n",
       "      <td>NaN</td>\n",
       "      <td>A01</td>\n",
       "      <td>EXPIRED METER</td>\n",
       "      <td>900 BLK OF WASHINGTO</td>\n",
       "      <td>5121B</td>\n",
       "      <td>20</td>\n",
       "      <td>20</td>\n",
       "    </tr>\n",
       "    <tr>\n",
       "      <th>6</th>\n",
       "      <td>2060009991</td>\n",
       "      <td>827</td>\n",
       "      <td>2016-01-02</td>\n",
       "      <td>1246</td>\n",
       "      <td>BXT4125</td>\n",
       "      <td>MI</td>\n",
       "      <td>FORD</td>\n",
       "      <td>NaN</td>\n",
       "      <td>A04</td>\n",
       "      <td>NO PRKNG ANYTME</td>\n",
       "      <td>300 BLK OF FLETCHER</td>\n",
       "      <td>NaN</td>\n",
       "      <td>25</td>\n",
       "      <td>0</td>\n",
       "    </tr>\n",
       "    <tr>\n",
       "      <th>7</th>\n",
       "      <td>2060009990</td>\n",
       "      <td>827</td>\n",
       "      <td>2016-01-02</td>\n",
       "      <td>1242</td>\n",
       "      <td>DJP4710</td>\n",
       "      <td>MI</td>\n",
       "      <td>HOND</td>\n",
       "      <td>NaN</td>\n",
       "      <td>A01</td>\n",
       "      <td>EXPIRED METER</td>\n",
       "      <td>900 BLK OF WASHINGTO</td>\n",
       "      <td>5068</td>\n",
       "      <td>10</td>\n",
       "      <td>0</td>\n",
       "    </tr>\n",
       "    <tr>\n",
       "      <th>8</th>\n",
       "      <td>2060009989</td>\n",
       "      <td>827</td>\n",
       "      <td>2016-01-02</td>\n",
       "      <td>1231</td>\n",
       "      <td>DSR7530</td>\n",
       "      <td>OH</td>\n",
       "      <td>BMW</td>\n",
       "      <td>NaN</td>\n",
       "      <td>A04</td>\n",
       "      <td>NO PRKNG ANYTME</td>\n",
       "      <td>800 BLK OF POTTER</td>\n",
       "      <td>NaN</td>\n",
       "      <td>35</td>\n",
       "      <td>0</td>\n",
       "    </tr>\n",
       "    <tr>\n",
       "      <th>9</th>\n",
       "      <td>2060009988</td>\n",
       "      <td>827</td>\n",
       "      <td>2016-01-02</td>\n",
       "      <td>1230</td>\n",
       "      <td>CGX8176</td>\n",
       "      <td>MI</td>\n",
       "      <td>VOLK</td>\n",
       "      <td>NaN</td>\n",
       "      <td>A04</td>\n",
       "      <td>NO PRKNG ANYTME</td>\n",
       "      <td>800 BLK OF POTTER</td>\n",
       "      <td>NaN</td>\n",
       "      <td>25</td>\n",
       "      <td>0</td>\n",
       "    </tr>\n",
       "    <tr>\n",
       "      <th>10</th>\n",
       "      <td>2060009987</td>\n",
       "      <td>827</td>\n",
       "      <td>2016-01-02</td>\n",
       "      <td>1205</td>\n",
       "      <td>BRU7564</td>\n",
       "      <td>MI</td>\n",
       "      <td>GMC</td>\n",
       "      <td>NaN</td>\n",
       "      <td>A01</td>\n",
       "      <td>EXPIRED METER</td>\n",
       "      <td>200 BLK OF HOOVER EA</td>\n",
       "      <td>4057B</td>\n",
       "      <td>10</td>\n",
       "      <td>0</td>\n",
       "    </tr>\n",
       "    <tr>\n",
       "      <th>11</th>\n",
       "      <td>2060009986</td>\n",
       "      <td>827</td>\n",
       "      <td>2016-01-02</td>\n",
       "      <td>1204</td>\n",
       "      <td>BNA8691</td>\n",
       "      <td>MI</td>\n",
       "      <td>FORD</td>\n",
       "      <td>NaN</td>\n",
       "      <td>A01</td>\n",
       "      <td>EXPIRED METER</td>\n",
       "      <td>300 BLK OF HOOVER EA</td>\n",
       "      <td>4055B</td>\n",
       "      <td>10</td>\n",
       "      <td>0</td>\n",
       "    </tr>\n",
       "    <tr>\n",
       "      <th>12</th>\n",
       "      <td>2060009985</td>\n",
       "      <td>827</td>\n",
       "      <td>2016-01-02</td>\n",
       "      <td>1203</td>\n",
       "      <td>6LNR36</td>\n",
       "      <td>MI</td>\n",
       "      <td>SATU</td>\n",
       "      <td>NaN</td>\n",
       "      <td>A01</td>\n",
       "      <td>EXPIRED METER</td>\n",
       "      <td>300 BLK OF HOOVER EA</td>\n",
       "      <td>4051B</td>\n",
       "      <td>20</td>\n",
       "      <td>0</td>\n",
       "    </tr>\n",
       "    <tr>\n",
       "      <th>13</th>\n",
       "      <td>2060009984</td>\n",
       "      <td>827</td>\n",
       "      <td>2016-01-02</td>\n",
       "      <td>1155</td>\n",
       "      <td>DGS5220</td>\n",
       "      <td>MI</td>\n",
       "      <td>HOND</td>\n",
       "      <td>NaN</td>\n",
       "      <td>A15</td>\n",
       "      <td>15' FIRE HYDRAN</td>\n",
       "      <td>402 PAULINE</td>\n",
       "      <td>NaN</td>\n",
       "      <td>40</td>\n",
       "      <td>0</td>\n",
       "    </tr>\n",
       "    <tr>\n",
       "      <th>14</th>\n",
       "      <td>2060009983</td>\n",
       "      <td>827</td>\n",
       "      <td>2016-01-02</td>\n",
       "      <td>1153</td>\n",
       "      <td>CGT0482</td>\n",
       "      <td>MI</td>\n",
       "      <td>CHEV</td>\n",
       "      <td>NaN</td>\n",
       "      <td>A20</td>\n",
       "      <td>BLOCKING D'WAY</td>\n",
       "      <td>312 PAULINE</td>\n",
       "      <td>NaN</td>\n",
       "      <td>25</td>\n",
       "      <td>0</td>\n",
       "    </tr>\n",
       "    <tr>\n",
       "      <th>15</th>\n",
       "      <td>2060009982</td>\n",
       "      <td>827</td>\n",
       "      <td>2016-01-02</td>\n",
       "      <td>1140</td>\n",
       "      <td>CLL1347</td>\n",
       "      <td>MI</td>\n",
       "      <td>JAGU</td>\n",
       "      <td>NaN</td>\n",
       "      <td>A01</td>\n",
       "      <td>EXPIRED METER</td>\n",
       "      <td>300 BLK OF ASHLEY NO</td>\n",
       "      <td>1165</td>\n",
       "      <td>20</td>\n",
       "      <td>0</td>\n",
       "    </tr>\n",
       "    <tr>\n",
       "      <th>16</th>\n",
       "      <td>2060009981</td>\n",
       "      <td>827</td>\n",
       "      <td>2016-01-02</td>\n",
       "      <td>1137</td>\n",
       "      <td>BGU3003</td>\n",
       "      <td>MI</td>\n",
       "      <td>PORS</td>\n",
       "      <td>NaN</td>\n",
       "      <td>A01</td>\n",
       "      <td>EXPIRED METER</td>\n",
       "      <td>200 BLK OF MAIN ST N</td>\n",
       "      <td>1026A</td>\n",
       "      <td>10</td>\n",
       "      <td>0</td>\n",
       "    </tr>\n",
       "    <tr>\n",
       "      <th>17</th>\n",
       "      <td>2060009980</td>\n",
       "      <td>827</td>\n",
       "      <td>2016-01-02</td>\n",
       "      <td>1135</td>\n",
       "      <td>CMUDAD</td>\n",
       "      <td>MI</td>\n",
       "      <td>FORD</td>\n",
       "      <td>NaN</td>\n",
       "      <td>A01</td>\n",
       "      <td>EXPIRED METER</td>\n",
       "      <td>200 BLK OF MAIN ST N</td>\n",
       "      <td>1023A</td>\n",
       "      <td>10</td>\n",
       "      <td>0</td>\n",
       "    </tr>\n",
       "    <tr>\n",
       "      <th>18</th>\n",
       "      <td>2060010000</td>\n",
       "      <td>827</td>\n",
       "      <td>2016-01-02</td>\n",
       "      <td>1339</td>\n",
       "      <td>0</td>\n",
       "      <td>NE</td>\n",
       "      <td>NaN</td>\n",
       "      <td>NaN</td>\n",
       "      <td>NaN</td>\n",
       "      <td>NaN</td>\n",
       "      <td>NaN</td>\n",
       "      <td>NaN</td>\n",
       "      <td>0</td>\n",
       "      <td>0</td>\n",
       "    </tr>\n",
       "    <tr>\n",
       "      <th>19</th>\n",
       "      <td>2060009978</td>\n",
       "      <td>827</td>\n",
       "      <td>2016-01-02</td>\n",
       "      <td>1124</td>\n",
       "      <td>DFG9768</td>\n",
       "      <td>MI</td>\n",
       "      <td>HOND</td>\n",
       "      <td>NaN</td>\n",
       "      <td>A01</td>\n",
       "      <td>EXPIRED METER</td>\n",
       "      <td>300 BLK OF DETROIT S</td>\n",
       "      <td>1533</td>\n",
       "      <td>10</td>\n",
       "      <td>0</td>\n",
       "    </tr>\n",
       "    <tr>\n",
       "      <th>20</th>\n",
       "      <td>2060009977</td>\n",
       "      <td>827</td>\n",
       "      <td>2016-01-02</td>\n",
       "      <td>1123</td>\n",
       "      <td>B61AN</td>\n",
       "      <td>MI</td>\n",
       "      <td>LEXU</td>\n",
       "      <td>NaN</td>\n",
       "      <td>A01</td>\n",
       "      <td>EXPIRED METER</td>\n",
       "      <td>300 BLK OF DETROIT S</td>\n",
       "      <td>1539</td>\n",
       "      <td>20</td>\n",
       "      <td>0</td>\n",
       "    </tr>\n",
       "    <tr>\n",
       "      <th>21</th>\n",
       "      <td>2060009976</td>\n",
       "      <td>827</td>\n",
       "      <td>2016-01-02</td>\n",
       "      <td>1122</td>\n",
       "      <td>AVC847</td>\n",
       "      <td>MI</td>\n",
       "      <td>FORD</td>\n",
       "      <td>NaN</td>\n",
       "      <td>A01</td>\n",
       "      <td>EXPIRED METER</td>\n",
       "      <td>300 BLK OF DETROIT S</td>\n",
       "      <td>1553</td>\n",
       "      <td>10</td>\n",
       "      <td>0</td>\n",
       "    </tr>\n",
       "    <tr>\n",
       "      <th>22</th>\n",
       "      <td>2060010001</td>\n",
       "      <td>827</td>\n",
       "      <td>2016-01-02</td>\n",
       "      <td>1429</td>\n",
       "      <td>DEC7315</td>\n",
       "      <td>MI</td>\n",
       "      <td>CHEV</td>\n",
       "      <td>NaN</td>\n",
       "      <td>A01</td>\n",
       "      <td>EXPIRED METER</td>\n",
       "      <td>1300 BLK OF ANN EAST</td>\n",
       "      <td>5031B</td>\n",
       "      <td>20</td>\n",
       "      <td>50</td>\n",
       "    </tr>\n",
       "    <tr>\n",
       "      <th>23</th>\n",
       "      <td>2060010002</td>\n",
       "      <td>827</td>\n",
       "      <td>2016-01-02</td>\n",
       "      <td>1435</td>\n",
       "      <td>Y838603</td>\n",
       "      <td>IL</td>\n",
       "      <td>DODG</td>\n",
       "      <td>NaN</td>\n",
       "      <td>A01</td>\n",
       "      <td>EXPIRED METER</td>\n",
       "      <td>300 BLK OF OBSERVATO</td>\n",
       "      <td>5073A</td>\n",
       "      <td>20</td>\n",
       "      <td>50</td>\n",
       "    </tr>\n",
       "    <tr>\n",
       "      <th>24</th>\n",
       "      <td>2060009972</td>\n",
       "      <td>827</td>\n",
       "      <td>2016-01-02</td>\n",
       "      <td>1110</td>\n",
       "      <td>AWL972</td>\n",
       "      <td>MI</td>\n",
       "      <td>ACUR</td>\n",
       "      <td>NaN</td>\n",
       "      <td>A01</td>\n",
       "      <td>EXPIRED METER</td>\n",
       "      <td>LOT 11</td>\n",
       "      <td>6A</td>\n",
       "      <td>10</td>\n",
       "      <td>0</td>\n",
       "    </tr>\n",
       "  </tbody>\n",
       "</table>\n",
       "</div>"
      ],
      "text/plain": [
       "      Ticket #  Badge Issue Date   IssueTime    Plate State  Make Model  \\\n",
       "0   2060009973    827  2016-01-02       1111    A27VT    MI  SATU   NaN   \n",
       "1   2060009996    827  2016-01-02       1304  DCZ5024    MI  HOND   NaN   \n",
       "2   2060009995    827  2016-01-02       1302  BEJ2048    MI  FORD   NaN   \n",
       "3   2060009994    827  2016-01-02       1257  DKQ9157    MI  FORD   NaN   \n",
       "4   2060009993    827  2016-01-02       1254  GJR3356    OH  CHEV   NaN   \n",
       "5   2060009992    827  2016-01-02       1250  DEW0285    MI  DODG   NaN   \n",
       "6   2060009991    827  2016-01-02       1246  BXT4125    MI  FORD   NaN   \n",
       "7   2060009990    827  2016-01-02       1242  DJP4710    MI  HOND   NaN   \n",
       "8   2060009989    827  2016-01-02       1231  DSR7530    OH   BMW   NaN   \n",
       "9   2060009988    827  2016-01-02       1230  CGX8176    MI  VOLK   NaN   \n",
       "10  2060009987    827  2016-01-02       1205  BRU7564    MI   GMC   NaN   \n",
       "11  2060009986    827  2016-01-02       1204  BNA8691    MI  FORD   NaN   \n",
       "12  2060009985    827  2016-01-02       1203   6LNR36    MI  SATU   NaN   \n",
       "13  2060009984    827  2016-01-02       1155  DGS5220    MI  HOND   NaN   \n",
       "14  2060009983    827  2016-01-02       1153  CGT0482    MI  CHEV   NaN   \n",
       "15  2060009982    827  2016-01-02       1140  CLL1347    MI  JAGU   NaN   \n",
       "16  2060009981    827  2016-01-02       1137  BGU3003    MI  PORS   NaN   \n",
       "17  2060009980    827  2016-01-02       1135   CMUDAD    MI  FORD   NaN   \n",
       "18  2060010000    827  2016-01-02       1339        0    NE   NaN   NaN   \n",
       "19  2060009978    827  2016-01-02       1124  DFG9768    MI  HOND   NaN   \n",
       "20  2060009977    827  2016-01-02       1123    B61AN    MI  LEXU   NaN   \n",
       "21  2060009976    827  2016-01-02       1122   AVC847    MI  FORD   NaN   \n",
       "22  2060010001    827  2016-01-02       1429  DEC7315    MI  CHEV   NaN   \n",
       "23  2060010002    827  2016-01-02       1435  Y838603    IL  DODG   NaN   \n",
       "24  2060009972    827  2016-01-02       1110   AWL972    MI  ACUR   NaN   \n",
       "\n",
       "   Violation      Description              Location  Meter   Fine   Penalty  \n",
       "0        A01    EXPIRED METER                LOT 11     5A      20        0  \n",
       "1        A04  NO PRKNG ANYTME  200 BLK OF STATE SOU    NaN      25        0  \n",
       "2        A01    EXPIRED METER  900 BLK OF WASHINGTO  5066B      20        0  \n",
       "3        A01    EXPIRED METER  300 BLK OF THAYER SO   5088      10        0  \n",
       "4        A01    EXPIRED METER  700 BLK OF WASHINGTO   5046      20       50  \n",
       "5        A01    EXPIRED METER  900 BLK OF WASHINGTO  5121B      20       20  \n",
       "6        A04  NO PRKNG ANYTME   300 BLK OF FLETCHER    NaN      25        0  \n",
       "7        A01    EXPIRED METER  900 BLK OF WASHINGTO   5068      10        0  \n",
       "8        A04  NO PRKNG ANYTME     800 BLK OF POTTER    NaN      35        0  \n",
       "9        A04  NO PRKNG ANYTME     800 BLK OF POTTER    NaN      25        0  \n",
       "10       A01    EXPIRED METER  200 BLK OF HOOVER EA  4057B      10        0  \n",
       "11       A01    EXPIRED METER  300 BLK OF HOOVER EA  4055B      10        0  \n",
       "12       A01    EXPIRED METER  300 BLK OF HOOVER EA  4051B      20        0  \n",
       "13       A15  15' FIRE HYDRAN           402 PAULINE    NaN      40        0  \n",
       "14       A20   BLOCKING D'WAY           312 PAULINE    NaN      25        0  \n",
       "15       A01    EXPIRED METER  300 BLK OF ASHLEY NO   1165      20        0  \n",
       "16       A01    EXPIRED METER  200 BLK OF MAIN ST N  1026A      10        0  \n",
       "17       A01    EXPIRED METER  200 BLK OF MAIN ST N  1023A      10        0  \n",
       "18       NaN              NaN                   NaN    NaN       0        0  \n",
       "19       A01    EXPIRED METER  300 BLK OF DETROIT S   1533      10        0  \n",
       "20       A01    EXPIRED METER  300 BLK OF DETROIT S   1539      20        0  \n",
       "21       A01    EXPIRED METER  300 BLK OF DETROIT S   1553      10        0  \n",
       "22       A01    EXPIRED METER  1300 BLK OF ANN EAST  5031B      20       50  \n",
       "23       A01    EXPIRED METER  300 BLK OF OBSERVATO  5073A      20       50  \n",
       "24       A01    EXPIRED METER                LOT 11     6A      10        0  "
      ]
     },
     "execution_count": 9,
     "metadata": {},
     "output_type": "execute_result"
    }
   ],
   "source": [
    "df=pd.read_excel(\"datasets/AnnArbor-TicketViolation2016.xls\",skiprows=1)\n",
    "print(df.columns)\n",
    "df.head(25)"
   ]
  },
  {
   "cell_type": "code",
   "execution_count": 10,
   "metadata": {
    "slideshow": {
     "slide_type": "slide"
    }
   },
   "outputs": [
    {
     "data": {
      "text/html": [
       "<div>\n",
       "<style scoped>\n",
       "    .dataframe tbody tr th:only-of-type {\n",
       "        vertical-align: middle;\n",
       "    }\n",
       "\n",
       "    .dataframe tbody tr th {\n",
       "        vertical-align: top;\n",
       "    }\n",
       "\n",
       "    .dataframe thead th {\n",
       "        text-align: right;\n",
       "    }\n",
       "</style>\n",
       "<table border=\"1\" class=\"dataframe\">\n",
       "  <thead>\n",
       "    <tr style=\"text-align: right;\">\n",
       "      <th></th>\n",
       "      <th>Ticket #</th>\n",
       "      <th>Badge</th>\n",
       "      <th>Issue Date</th>\n",
       "      <th>IssueTime</th>\n",
       "      <th>Plate</th>\n",
       "      <th>State</th>\n",
       "      <th>Make</th>\n",
       "      <th>Model</th>\n",
       "      <th>Violation</th>\n",
       "      <th>Description</th>\n",
       "      <th>Location</th>\n",
       "      <th>Meter</th>\n",
       "      <th>Fine</th>\n",
       "      <th>Penalty</th>\n",
       "    </tr>\n",
       "  </thead>\n",
       "  <tbody>\n",
       "    <tr>\n",
       "      <th>2016-01-02 11:11:00</th>\n",
       "      <td>2060009973</td>\n",
       "      <td>827</td>\n",
       "      <td>2016-01-02</td>\n",
       "      <td>1111</td>\n",
       "      <td>A27VT</td>\n",
       "      <td>MI</td>\n",
       "      <td>SATU</td>\n",
       "      <td>NaN</td>\n",
       "      <td>A01</td>\n",
       "      <td>EXPIRED METER</td>\n",
       "      <td>LOT 11</td>\n",
       "      <td>5A</td>\n",
       "      <td>20</td>\n",
       "      <td>0</td>\n",
       "    </tr>\n",
       "    <tr>\n",
       "      <th>2016-01-02 13:04:00</th>\n",
       "      <td>2060009996</td>\n",
       "      <td>827</td>\n",
       "      <td>2016-01-02</td>\n",
       "      <td>1304</td>\n",
       "      <td>DCZ5024</td>\n",
       "      <td>MI</td>\n",
       "      <td>HOND</td>\n",
       "      <td>NaN</td>\n",
       "      <td>A04</td>\n",
       "      <td>NO PRKNG ANYTME</td>\n",
       "      <td>200 BLK OF STATE SOU</td>\n",
       "      <td>NaN</td>\n",
       "      <td>25</td>\n",
       "      <td>0</td>\n",
       "    </tr>\n",
       "    <tr>\n",
       "      <th>2016-01-02 13:02:00</th>\n",
       "      <td>2060009995</td>\n",
       "      <td>827</td>\n",
       "      <td>2016-01-02</td>\n",
       "      <td>1302</td>\n",
       "      <td>BEJ2048</td>\n",
       "      <td>MI</td>\n",
       "      <td>FORD</td>\n",
       "      <td>NaN</td>\n",
       "      <td>A01</td>\n",
       "      <td>EXPIRED METER</td>\n",
       "      <td>900 BLK OF WASHINGTO</td>\n",
       "      <td>5066B</td>\n",
       "      <td>20</td>\n",
       "      <td>0</td>\n",
       "    </tr>\n",
       "    <tr>\n",
       "      <th>2016-01-02 12:57:00</th>\n",
       "      <td>2060009994</td>\n",
       "      <td>827</td>\n",
       "      <td>2016-01-02</td>\n",
       "      <td>1257</td>\n",
       "      <td>DKQ9157</td>\n",
       "      <td>MI</td>\n",
       "      <td>FORD</td>\n",
       "      <td>NaN</td>\n",
       "      <td>A01</td>\n",
       "      <td>EXPIRED METER</td>\n",
       "      <td>300 BLK OF THAYER SO</td>\n",
       "      <td>5088</td>\n",
       "      <td>10</td>\n",
       "      <td>0</td>\n",
       "    </tr>\n",
       "    <tr>\n",
       "      <th>2016-01-02 12:54:00</th>\n",
       "      <td>2060009993</td>\n",
       "      <td>827</td>\n",
       "      <td>2016-01-02</td>\n",
       "      <td>1254</td>\n",
       "      <td>GJR3356</td>\n",
       "      <td>OH</td>\n",
       "      <td>CHEV</td>\n",
       "      <td>NaN</td>\n",
       "      <td>A01</td>\n",
       "      <td>EXPIRED METER</td>\n",
       "      <td>700 BLK OF WASHINGTO</td>\n",
       "      <td>5046</td>\n",
       "      <td>20</td>\n",
       "      <td>50</td>\n",
       "    </tr>\n",
       "  </tbody>\n",
       "</table>\n",
       "</div>"
      ],
      "text/plain": [
       "                       Ticket #  Badge Issue Date   IssueTime    Plate State  \\\n",
       "2016-01-02 11:11:00  2060009973    827  2016-01-02       1111    A27VT    MI   \n",
       "2016-01-02 13:04:00  2060009996    827  2016-01-02       1304  DCZ5024    MI   \n",
       "2016-01-02 13:02:00  2060009995    827  2016-01-02       1302  BEJ2048    MI   \n",
       "2016-01-02 12:57:00  2060009994    827  2016-01-02       1257  DKQ9157    MI   \n",
       "2016-01-02 12:54:00  2060009993    827  2016-01-02       1254  GJR3356    OH   \n",
       "\n",
       "                     Make Model Violation      Description  \\\n",
       "2016-01-02 11:11:00  SATU   NaN       A01    EXPIRED METER   \n",
       "2016-01-02 13:04:00  HOND   NaN       A04  NO PRKNG ANYTME   \n",
       "2016-01-02 13:02:00  FORD   NaN       A01    EXPIRED METER   \n",
       "2016-01-02 12:57:00  FORD   NaN       A01    EXPIRED METER   \n",
       "2016-01-02 12:54:00  CHEV   NaN       A01    EXPIRED METER   \n",
       "\n",
       "                                 Location  Meter   Fine   Penalty  \n",
       "2016-01-02 11:11:00                LOT 11     5A      20        0  \n",
       "2016-01-02 13:04:00  200 BLK OF STATE SOU    NaN      25        0  \n",
       "2016-01-02 13:02:00  900 BLK OF WASHINGTO  5066B      20        0  \n",
       "2016-01-02 12:57:00  300 BLK OF THAYER SO   5088      10        0  \n",
       "2016-01-02 12:54:00  700 BLK OF WASHINGTO   5046      20       50  "
      ]
     },
     "execution_count": 10,
     "metadata": {},
     "output_type": "execute_result"
    }
   ],
   "source": [
    "# First up, let's create a date/time index. We have an issue date column and \n",
    "# an issuetime column\n",
    "def clean_time(x):\n",
    "    issue_time=str(x[\"IssueTime\"])\n",
    "    if len(issue_time) < 4:\n",
    "        issue_time=\"0\"+issue_time\n",
    "    date_time=\"{}{}:{}\".format(\n",
    "        str(x[\"Issue Date \"])[0:11], \n",
    "        issue_time[0:2], \n",
    "        issue_time[-2:], axis=1)\n",
    "    return pd.to_datetime(date_time, format='%Y-%m-%d %H:%M')\n",
    "df=df.set_index(df[[\"Issue Date \",\"IssueTime\"]].apply(clean_time, axis=1))\n",
    "df.head()"
   ]
  },
  {
   "cell_type": "code",
   "execution_count": 12,
   "metadata": {
    "slideshow": {
     "slide_type": "slide"
    }
   },
   "outputs": [
    {
     "data": {
      "text/plain": [
       "<matplotlib.axes._subplots.AxesSubplot at 0x7fd44a9082b0>"
      ]
     },
     "execution_count": 12,
     "metadata": {},
     "output_type": "execute_result"
    },
    {
     "data": {
      "image/png": "[encoded data removed]",
      "text/plain": [
       "<Figure size 432x288 with 1 Axes>"
      ]
     },
     "metadata": {
      "needs_background": "light"
     },
     "output_type": "display_data"
    }
   ],
   "source": [
    "%matplotlib inline\n",
    "# Now let's plot the fines over the year!\n",
    "import matplotlib.pyplot as plt\n",
    "df[\" Fine \"].plot()"
   ]
  },
  {
   "cell_type": "code",
   "execution_count": 13,
   "metadata": {
    "slideshow": {
     "slide_type": "slide"
    }
   },
   "outputs": [
    {
     "data": {
      "text/plain": [
       "<matplotlib.axes._subplots.AxesSubplot at 0x7fd4498f7be0>"
      ]
     },
     "execution_count": 13,
     "metadata": {},
     "output_type": "execute_result"
    },
    {
     "data": {
      "image/png": "[encoded data removed]",
      "text/plain": [
       "<Figure size 432x288 with 1 Axes>"
      ]
     },
     "metadata": {
      "needs_background": "light"
     },
     "output_type": "display_data"
    }
   ],
   "source": [
    "# gah! That's meaningless. How would we find signal in that noise?\n",
    "# let's zoom in on a single month, pandas does the \"right thing\" with date/time slicing!\n",
    "df.loc[\"2016-01-01\":\"2016-02-01\", \" Fine \"].plot()"
   ]
  },
  {
   "cell_type": "code",
   "execution_count": 14,
   "metadata": {
    "slideshow": {
     "slide_type": "slide"
    }
   },
   "outputs": [
    {
     "data": {
      "text/plain": [
       "array([ True,  True,  True, ..., False, False, False])"
      ]
     },
     "execution_count": 14,
     "metadata": {},
     "output_type": "execute_result"
    }
   ],
   "source": [
    "# This, is, btw, much cooler than it seems at first blush, check this out\n",
    "df.index < \"2016-01-03\"\n",
    "# WOW!"
   ]
  },
  {
   "cell_type": "code",
   "execution_count": 15,
   "metadata": {
    "slideshow": {
     "slide_type": "slide"
    }
   },
   "outputs": [
    {
     "data": {
      "text/html": [
       "<div>\n",
       "<style scoped>\n",
       "    .dataframe tbody tr th:only-of-type {\n",
       "        vertical-align: middle;\n",
       "    }\n",
       "\n",
       "    .dataframe tbody tr th {\n",
       "        vertical-align: top;\n",
       "    }\n",
       "\n",
       "    .dataframe thead th {\n",
       "        text-align: right;\n",
       "    }\n",
       "</style>\n",
       "<table border=\"1\" class=\"dataframe\">\n",
       "  <thead>\n",
       "    <tr style=\"text-align: right;\">\n",
       "      <th></th>\n",
       "      <th>Ticket #</th>\n",
       "      <th>Badge</th>\n",
       "      <th>Issue Date</th>\n",
       "      <th>IssueTime</th>\n",
       "      <th>Plate</th>\n",
       "      <th>State</th>\n",
       "      <th>Make</th>\n",
       "      <th>Model</th>\n",
       "      <th>Violation</th>\n",
       "      <th>Description</th>\n",
       "      <th>Location</th>\n",
       "      <th>Meter</th>\n",
       "      <th>Fine</th>\n",
       "      <th>Penalty</th>\n",
       "    </tr>\n",
       "  </thead>\n",
       "  <tbody>\n",
       "    <tr>\n",
       "      <th>2016-01-02 11:11:00</th>\n",
       "      <td>2060009973</td>\n",
       "      <td>827</td>\n",
       "      <td>2016-01-02</td>\n",
       "      <td>1111</td>\n",
       "      <td>A27VT</td>\n",
       "      <td>MI</td>\n",
       "      <td>SATU</td>\n",
       "      <td>NaN</td>\n",
       "      <td>A01</td>\n",
       "      <td>EXPIRED METER</td>\n",
       "      <td>LOT 11</td>\n",
       "      <td>5A</td>\n",
       "      <td>20</td>\n",
       "      <td>0</td>\n",
       "    </tr>\n",
       "    <tr>\n",
       "      <th>2016-01-02 13:04:00</th>\n",
       "      <td>2060009996</td>\n",
       "      <td>827</td>\n",
       "      <td>2016-01-02</td>\n",
       "      <td>1304</td>\n",
       "      <td>DCZ5024</td>\n",
       "      <td>MI</td>\n",
       "      <td>HOND</td>\n",
       "      <td>NaN</td>\n",
       "      <td>A04</td>\n",
       "      <td>NO PRKNG ANYTME</td>\n",
       "      <td>200 BLK OF STATE SOU</td>\n",
       "      <td>NaN</td>\n",
       "      <td>25</td>\n",
       "      <td>0</td>\n",
       "    </tr>\n",
       "    <tr>\n",
       "      <th>2016-01-02 13:02:00</th>\n",
       "      <td>2060009995</td>\n",
       "      <td>827</td>\n",
       "      <td>2016-01-02</td>\n",
       "      <td>1302</td>\n",
       "      <td>BEJ2048</td>\n",
       "      <td>MI</td>\n",
       "      <td>FORD</td>\n",
       "      <td>NaN</td>\n",
       "      <td>A01</td>\n",
       "      <td>EXPIRED METER</td>\n",
       "      <td>900 BLK OF WASHINGTO</td>\n",
       "      <td>5066B</td>\n",
       "      <td>20</td>\n",
       "      <td>0</td>\n",
       "    </tr>\n",
       "    <tr>\n",
       "      <th>2016-01-02 12:57:00</th>\n",
       "      <td>2060009994</td>\n",
       "      <td>827</td>\n",
       "      <td>2016-01-02</td>\n",
       "      <td>1257</td>\n",
       "      <td>DKQ9157</td>\n",
       "      <td>MI</td>\n",
       "      <td>FORD</td>\n",
       "      <td>NaN</td>\n",
       "      <td>A01</td>\n",
       "      <td>EXPIRED METER</td>\n",
       "      <td>300 BLK OF THAYER SO</td>\n",
       "      <td>5088</td>\n",
       "      <td>10</td>\n",
       "      <td>0</td>\n",
       "    </tr>\n",
       "    <tr>\n",
       "      <th>2016-01-02 12:54:00</th>\n",
       "      <td>2060009993</td>\n",
       "      <td>827</td>\n",
       "      <td>2016-01-02</td>\n",
       "      <td>1254</td>\n",
       "      <td>GJR3356</td>\n",
       "      <td>OH</td>\n",
       "      <td>CHEV</td>\n",
       "      <td>NaN</td>\n",
       "      <td>A01</td>\n",
       "      <td>EXPIRED METER</td>\n",
       "      <td>700 BLK OF WASHINGTO</td>\n",
       "      <td>5046</td>\n",
       "      <td>20</td>\n",
       "      <td>50</td>\n",
       "    </tr>\n",
       "  </tbody>\n",
       "</table>\n",
       "</div>"
      ],
      "text/plain": [
       "                       Ticket #  Badge Issue Date   IssueTime    Plate State  \\\n",
       "2016-01-02 11:11:00  2060009973    827  2016-01-02       1111    A27VT    MI   \n",
       "2016-01-02 13:04:00  2060009996    827  2016-01-02       1304  DCZ5024    MI   \n",
       "2016-01-02 13:02:00  2060009995    827  2016-01-02       1302  BEJ2048    MI   \n",
       "2016-01-02 12:57:00  2060009994    827  2016-01-02       1257  DKQ9157    MI   \n",
       "2016-01-02 12:54:00  2060009993    827  2016-01-02       1254  GJR3356    OH   \n",
       "\n",
       "                     Make Model Violation      Description  \\\n",
       "2016-01-02 11:11:00  SATU   NaN       A01    EXPIRED METER   \n",
       "2016-01-02 13:04:00  HOND   NaN       A04  NO PRKNG ANYTME   \n",
       "2016-01-02 13:02:00  FORD   NaN       A01    EXPIRED METER   \n",
       "2016-01-02 12:57:00  FORD   NaN       A01    EXPIRED METER   \n",
       "2016-01-02 12:54:00  CHEV   NaN       A01    EXPIRED METER   \n",
       "\n",
       "                                 Location  Meter   Fine   Penalty  \n",
       "2016-01-02 11:11:00                LOT 11     5A      20        0  \n",
       "2016-01-02 13:04:00  200 BLK OF STATE SOU    NaN      25        0  \n",
       "2016-01-02 13:02:00  900 BLK OF WASHINGTO  5066B      20        0  \n",
       "2016-01-02 12:57:00  300 BLK OF THAYER SO   5088      10        0  \n",
       "2016-01-02 12:54:00  700 BLK OF WASHINGTO   5046      20       50  "
      ]
     },
     "execution_count": 15,
     "metadata": {},
     "output_type": "execute_result"
    }
   ],
   "source": [
    "# so this means we can use date/times as masks!\n",
    "df[df.index<\"2016-02\"].head()"
   ]
  },
  {
   "cell_type": "code",
   "execution_count": 16,
   "metadata": {
    "slideshow": {
     "slide_type": "slide"
    }
   },
   "outputs": [
    {
     "data": {
      "text/plain": [
       "<matplotlib.axes._subplots.AxesSubplot at 0x7fd449800cf8>"
      ]
     },
     "execution_count": 16,
     "metadata": {},
     "output_type": "execute_result"
    },
    {
     "data": {
      "image/png": "[encoded data removed]",
      "text/plain": [
       "<Figure size 432x288 with 1 Axes>"
      ]
     },
     "metadata": {
      "needs_background": "light"
     },
     "output_type": "display_data"
    }
   ],
   "source": [
    "# Now let's resample this and look at daily totals\n",
    "df.loc[\"2016-01-01\":\"2016-02-01\", \" Fine \"].resample(\"1D\").apply(np.sum).plot()"
   ]
  },
  {
   "cell_type": "code",
   "execution_count": 17,
   "metadata": {
    "slideshow": {
     "slide_type": "slide"
    }
   },
   "outputs": [
    {
     "data": {
      "text/plain": [
       "<matplotlib.axes._subplots.AxesSubplot at 0x7fd4498f7908>"
      ]
     },
     "execution_count": 17,
     "metadata": {},
     "output_type": "execute_result"
    },
    {
     "data": {
      "image/png": "[encoded data removed]",
      "text/plain": [
       "<Figure size 432x288 with 1 Axes>"
      ]
     },
     "metadata": {
      "needs_background": "light"
     },
     "output_type": "display_data"
    }
   ],
   "source": [
    "# January 10th 2016 was a sunday! Looks pretty clear that sundays very few tickets \n",
    "# are given out!\n",
    "# Also, David Bowie died on this day. :(\n",
    "# How do things change if we look at mean values?\n",
    "df.loc[\"2016-01-01\":\"2016-02-01\", \" Fine \"].resample(\"1D\").apply(np.mean).plot()"
   ]
  },
  {
   "cell_type": "code",
   "execution_count": 18,
   "metadata": {
    "slideshow": {
     "slide_type": "slide"
    }
   },
   "outputs": [
    {
     "data": {
      "text/plain": [
       "<matplotlib.axes._subplots.AxesSubplot at 0x7fd449800cc0>"
      ]
     },
     "execution_count": 18,
     "metadata": {},
     "output_type": "execute_result"
    },
    {
     "data": {
      "image/png": "[encoded data removed]",
      "text/plain": [
       "<Figure size 432x288 with 1 Axes>"
      ]
     },
     "metadata": {
      "needs_background": "light"
     },
     "output_type": "display_data"
    }
   ],
   "source": [
    "#We could also look at tickets per hour in a single week\n",
    "df.loc[\"2016-01-11\":\"2016-01-18\", \" Fine \"].resample(\"1H\").apply(len).plot()"
   ]
  },
  {
   "cell_type": "code",
   "execution_count": 20,
   "metadata": {
    "slideshow": {
     "slide_type": "slide"
    }
   },
   "outputs": [
    {
     "data": {
      "text/plain": [
       "<matplotlib.axes._subplots.AxesSubplot at 0x7fd449546be0>"
      ]
     },
     "execution_count": 20,
     "metadata": {},
     "output_type": "execute_result"
    },
    {
     "data": {
      "image/png": "[encoded data removed]",
      "text/plain": [
       "<Figure size 432x288 with 1 Axes>"
      ]
     },
     "metadata": {
      "needs_background": "light"
     },
     "output_type": "display_data"
    }
   ],
   "source": [
    "# That 13th-14th has some big values, let's zoom in a bit\n",
    "df.loc[\"2016-01-13\":\"2016-01-14\", \" Fine \"].resample(\"5T\").apply(len).plot()"
   ]
  },
  {
   "cell_type": "code",
   "execution_count": 21,
   "metadata": {
    "slideshow": {
     "slide_type": "slide"
    }
   },
   "outputs": [
    {
     "data": {
      "text/plain": [
       "<matplotlib.axes._subplots.AxesSubplot at 0x7fd4494abd68>"
      ]
     },
     "execution_count": 21,
     "metadata": {},
     "output_type": "execute_result"
    },
    {
     "data": {
      "image/png": "[encoded data removed]",
      "text/plain": [
       "<Figure size 432x288 with 1 Axes>"
      ]
     },
     "metadata": {
      "needs_background": "light"
     },
     "output_type": "display_data"
    }
   ],
   "source": [
    "# We can also explore multiple series of data plotted on the same chart by executing plot() on a\n",
    "# dataframe multiple times in a single cell\n",
    "df.loc[\"2016-01-13\":\"2016-01-14\", \" Fine \"].resample(\"15T\").apply(len).plot()\n",
    "df.loc[\"2016-01-13\":\"2016-01-14\", \" Fine \"].resample(\"60T\").apply(len).plot()\n",
    "df.loc[\"2016-01-13\":\"2016-01-14\", \" Fine \"].resample(\"180T\").apply(len).plot()"
   ]
  }
 ],
 "metadata": {
  "celltoolbar": "Slideshow",
  "kernelspec": {
   "display_name": "Python 3",
   "language": "python",
   "name": "python3"
  },
  "language_info": {
   "codemirror_mode": {
    "name": "ipython",
    "version": 3
   },
   "file_extension": ".py",
   "mimetype": "text/x-python",
   "name": "python",
   "nbconvert_exporter": "python",
   "pygments_lexer": "ipython3",
   "version": "3.7.3"
  }
 },
 "nbformat": 4,
 "nbformat_minor": 4
}
